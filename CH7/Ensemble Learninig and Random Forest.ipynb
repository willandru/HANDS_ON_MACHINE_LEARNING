{
 "cells": [
  {
   "cell_type": "markdown",
   "id": "27bb6574",
   "metadata": {},
   "source": [
    "# ENSEMBLE METHODS: bagging, boosting and stacking"
   ]
  },
  {
   "cell_type": "markdown",
   "id": "b4676e3c",
   "metadata": {},
   "source": [
    "## VOTING CLASSIFIERS : moon dataset\n",
    "\n",
    "### HARD VOTING"
   ]
  },
  {
   "cell_type": "code",
   "execution_count": 1,
   "id": "8177fe48",
   "metadata": {},
   "outputs": [],
   "source": [
    "from sklearn.model_selection import train_test_split\n",
    "from sklearn.datasets import make_moons\n",
    "\n",
    "X, y = make_moons(n_samples=500, noise=0.30, random_state=42)\n",
    "X_train, X_test, y_train, y_test = train_test_split(X, y, random_state=42)"
   ]
  },
  {
   "cell_type": "code",
   "execution_count": 2,
   "id": "14cbe0dd",
   "metadata": {},
   "outputs": [
    {
     "data": {
      "text/plain": [
       "VotingClassifier(estimators=[('lr', LogisticRegression()),\n",
       "                             ('rf', RandomForestClassifier()), ('svc', SVC())])"
      ]
     },
     "execution_count": 2,
     "metadata": {},
     "output_type": "execute_result"
    }
   ],
   "source": [
    "from sklearn.ensemble import RandomForestClassifier\n",
    "from sklearn.ensemble import VotingClassifier\n",
    "from sklearn.linear_model import LogisticRegression\n",
    "from sklearn.svm import SVC\n",
    "\n",
    "log_clf = LogisticRegression()\n",
    "rnd_clf = RandomForestClassifier()\n",
    "svm_clf = SVC()\n",
    "\n",
    "voting_clf = VotingClassifier(estimators=[('lr', log_clf), ('rf', rnd_clf), ('svc', svm_clf)],\n",
    "                             voting='hard')\n",
    "voting_clf.fit(X_train, y_train)"
   ]
  },
  {
   "cell_type": "code",
   "execution_count": 3,
   "id": "f4d55cb0",
   "metadata": {},
   "outputs": [
    {
     "name": "stdout",
     "output_type": "stream",
     "text": [
      "LogisticRegression 0.864\n",
      "RandomForestClassifier 0.896\n",
      "SVC 0.896\n",
      "VotingClassifier 0.904\n"
     ]
    }
   ],
   "source": [
    "from sklearn.metrics import accuracy_score\n",
    "\n",
    "for clf in (log_clf, rnd_clf, svm_clf, voting_clf):\n",
    "    clf.fit(X_train, y_train)\n",
    "    y_pred = clf.predict(X_test)\n",
    "    print(clf.__class__.__name__, accuracy_score(y_test, y_pred))"
   ]
  },
  {
   "cell_type": "markdown",
   "id": "539791ac",
   "metadata": {},
   "source": [
    "### SOFT VOTING\n",
    "- If all classifiers are able to estimate CLASS PROBABILITIES, then you can tell Scikit-Learn to predict the class with the highest class probability, averaged over all the individual classifers\n",
    "- It often achives higher performance than \"HARD VOTING\"\n",
    "- voting=\"soft\"  and esure all classifiers can estimate class probabilities"
   ]
  },
  {
   "cell_type": "code",
   "execution_count": 4,
   "id": "d64d9c0a",
   "metadata": {},
   "outputs": [
    {
     "data": {
      "text/plain": [
       "VotingClassifier(estimators=[('lr', LogisticRegression(random_state=42)),\n",
       "                             ('rf', RandomForestClassifier(random_state=42)),\n",
       "                             ('svc', SVC(probability=True, random_state=42))],\n",
       "                 voting='soft')"
      ]
     },
     "execution_count": 4,
     "metadata": {},
     "output_type": "execute_result"
    }
   ],
   "source": [
    "log_clf = LogisticRegression(solver=\"lbfgs\", random_state=42)\n",
    "rnd_clf = RandomForestClassifier(n_estimators=100, random_state=42)\n",
    "svm_clf = SVC(gamma=\"scale\", probability=True, random_state=42)\n",
    "\n",
    "voting_clf = VotingClassifier(\n",
    "    estimators=[('lr', log_clf), ('rf', rnd_clf), ('svc', svm_clf)],\n",
    "    voting='soft')\n",
    "voting_clf.fit(X_train, y_train)"
   ]
  },
  {
   "cell_type": "code",
   "execution_count": 5,
   "id": "20dee323",
   "metadata": {},
   "outputs": [
    {
     "name": "stdout",
     "output_type": "stream",
     "text": [
      "LogisticRegression 0.864\n",
      "RandomForestClassifier 0.896\n",
      "SVC 0.896\n",
      "VotingClassifier 0.92\n"
     ]
    }
   ],
   "source": [
    "for clf in (log_clf, rnd_clf, svm_clf, voting_clf):\n",
    "    clf.fit(X_train, y_train)\n",
    "    y_pred = clf.predict(X_test)\n",
    "    print(clf.__class__.__name__, accuracy_score(y_test, y_pred))"
   ]
  },
  {
   "cell_type": "markdown",
   "id": "4e55d007",
   "metadata": {},
   "source": [
    "# BAGGING AND PASTING\n",
    "- Another approach is to use the same training algorithms for every predictor and train them on different random subsets of the training set.\n",
    " - When sampling with replacment this is called \"BAGGING\" (BOOTSTRAP AGGREGATION)\n",
    " - When samplig without replacment this is called \"PASTING\"\n",
    " - Both Bagging and Pasting allow training instances to be sampled several times across multiple predictors, but only BAGGING allows training instances to be sampled several times fro the same predictor\n",
    " \n",
    " ## AGREGATION FUNCTION: agregating the predictions for all predictors\n",
    " - AGREGATTION FUNCTION: statistical mode ( the most frequent prediction) for classification, or the average for regression\n",
    " \n",
    " ### each indiviual predictor has a higher bias than if it were trained on the original training set, but aggregation reduces both bias and variance. Generally the net result is that the ensemble has a similar bias but a lower variance\n",
    " \n",
    " ### PREDICTORS CAN BE ALL TRAINED IN PARALLEL , VIA DIFFERENT CPU CORES, OR EVEN DIFFERENT SERVERS. SIMILARLY PREDICTIONS CAN BE MADE IN PARALLEL\n",
    " \n",
    " - That is the reason why baggin and pasting are so popular, because the scale well\n",
    " - FOLOWING CODE TRAINS AN ENSEMBLE OF 500 DECISIO TREE CLASSIFIERS: EACH IS TRAINED ON 100 TRAINING INSTANCES RANDOMLY SAMPLED FROM THE TRAINING SET WITH REPLACMENT (if you want to do pasting set bootstrap=False). The n-jobs parameter tells Scikit-Learn the number of cores to use, -1 means use them all¡"
   ]
  },
  {
   "cell_type": "code",
   "execution_count": 6,
   "id": "e53c059c",
   "metadata": {},
   "outputs": [],
   "source": [
    "from sklearn.ensemble import BaggingClassifier\n",
    "from sklearn.tree import DecisionTreeClassifier\n",
    "\n",
    "bag_clf = BaggingClassifier(DecisionTreeClassifier(), n_estimators=500, \n",
    "                           max_samples=100, bootstrap=True, n_jobs=-1)\n",
    "bag_clf.fit(X_train, y_train)\n",
    "y_pred = bag_clf.predict(X_test)"
   ]
  },
  {
   "cell_type": "markdown",
   "id": "dc635c4c",
   "metadata": {},
   "source": [
    "### Out-of-Bag EVALUATION:\n",
    "- Due to the nature of bootstrap, the instances that are not sampled can be used for testing (OUT OF THE BAG)"
   ]
  },
  {
   "cell_type": "code",
   "execution_count": 9,
   "id": "766db8c0",
   "metadata": {},
   "outputs": [
    {
     "data": {
      "text/plain": [
       "BaggingClassifier(base_estimator=DecisionTreeClassifier(), max_samples=100,\n",
       "                  n_estimators=500, n_jobs=-1, oob_score=True)"
      ]
     },
     "execution_count": 9,
     "metadata": {},
     "output_type": "execute_result"
    }
   ],
   "source": [
    "bag_clf = BaggingClassifier(DecisionTreeClassifier(), n_estimators=500, \n",
    "                           max_samples=100, bootstrap=True, n_jobs=-1, oob_score=True)\n",
    "bag_clf.fit(X_train, y_train)\n"
   ]
  },
  {
   "cell_type": "code",
   "execution_count": 10,
   "id": "f533cc22",
   "metadata": {},
   "outputs": [
    {
     "data": {
      "text/plain": [
       "0.92"
      ]
     },
     "execution_count": 10,
     "metadata": {},
     "output_type": "execute_result"
    }
   ],
   "source": [
    "bag_clf.oob_score_ #IT'S LIKELY TO ACHIVE 92% ON THE TEST SET"
   ]
  },
  {
   "cell_type": "code",
   "execution_count": 12,
   "id": "d58eed86",
   "metadata": {},
   "outputs": [
    {
     "data": {
      "text/plain": [
       "0.912"
      ]
     },
     "execution_count": 12,
     "metadata": {},
     "output_type": "execute_result"
    }
   ],
   "source": [
    "from sklearn.metrics import accuracy_score\n",
    "y_pred = bag_clf.predict(X_test)\n",
    "accuracy_score(y_test, y_pred)"
   ]
  },
  {
   "cell_type": "code",
   "execution_count": 13,
   "id": "edc2ef08",
   "metadata": {},
   "outputs": [
    {
     "data": {
      "text/plain": [
       "array([[0.35641026, 0.64358974],\n",
       "       [0.4231738 , 0.5768262 ],\n",
       "       [1.        , 0.        ],\n",
       "       [0.0078329 , 0.9921671 ],\n",
       "       [0.02072539, 0.97927461],\n",
       "       [0.1119403 , 0.8880597 ],\n",
       "       [0.42199488, 0.57800512],\n",
       "       [0.06896552, 0.93103448],\n",
       "       [0.9453125 , 0.0546875 ],\n",
       "       [0.85526316, 0.14473684],\n",
       "       [0.52645503, 0.47354497],\n",
       "       [0.0703125 , 0.9296875 ],\n",
       "       [0.74736842, 0.25263158],\n",
       "       [0.90697674, 0.09302326],\n",
       "       [0.92207792, 0.07792208],\n",
       "       [0.07908163, 0.92091837],\n",
       "       [0.03804348, 0.96195652],\n",
       "       [0.94736842, 0.05263158],\n",
       "       [0.69863014, 0.30136986],\n",
       "       [0.96842105, 0.03157895],\n",
       "       [0.04904632, 0.95095368],\n",
       "       [0.25396825, 0.74603175],\n",
       "       [0.88860104, 0.11139896],\n",
       "       [0.98522167, 0.01477833],\n",
       "       [0.96883117, 0.03116883],\n",
       "       [0.00533333, 0.99466667],\n",
       "       [0.96808511, 0.03191489],\n",
       "       [0.9974026 , 0.0025974 ],\n",
       "       [0.03092784, 0.96907216],\n",
       "       [0.77690289, 0.22309711],\n",
       "       [0.        , 1.        ],\n",
       "       [0.99473684, 0.00526316],\n",
       "       [0.01015228, 0.98984772],\n",
       "       [0.07631579, 0.92368421],\n",
       "       [0.08860759, 0.91139241],\n",
       "       [0.96899225, 0.03100775],\n",
       "       [0.02110818, 0.97889182],\n",
       "       [0.54615385, 0.45384615],\n",
       "       [0.01030928, 0.98969072],\n",
       "       [0.98979592, 0.01020408],\n",
       "       [0.08310992, 0.91689008],\n",
       "       [0.37142857, 0.62857143],\n",
       "       [0.9973822 , 0.0026178 ],\n",
       "       [0.97922078, 0.02077922],\n",
       "       [0.        , 1.        ],\n",
       "       [0.9973822 , 0.0026178 ],\n",
       "       [1.        , 0.        ],\n",
       "       [0.05163043, 0.94836957],\n",
       "       [0.98408488, 0.01591512],\n",
       "       [0.04155844, 0.95844156],\n",
       "       [0.94270833, 0.05729167],\n",
       "       [0.84318766, 0.15681234],\n",
       "       [0.92987013, 0.07012987],\n",
       "       [0.79187817, 0.20812183],\n",
       "       [0.02806122, 0.97193878],\n",
       "       [0.10776942, 0.89223058],\n",
       "       [0.83      , 0.17      ],\n",
       "       [0.02380952, 0.97619048],\n",
       "       [0.015625  , 0.984375  ],\n",
       "       [0.05630027, 0.94369973],\n",
       "       [0.832021  , 0.167979  ],\n",
       "       [0.64857881, 0.35142119],\n",
       "       [0.71279373, 0.28720627],\n",
       "       [0.99496222, 0.00503778],\n",
       "       [0.01785714, 0.98214286],\n",
       "       [0.80878553, 0.19121447],\n",
       "       [0.98666667, 0.01333333],\n",
       "       [0.99734043, 0.00265957],\n",
       "       [0.656     , 0.344     ],\n",
       "       [0.9762533 , 0.0237467 ],\n",
       "       [0.32901554, 0.67098446],\n",
       "       [0.32180851, 0.67819149],\n",
       "       [0.41602067, 0.58397933],\n",
       "       [0.65816327, 0.34183673],\n",
       "       [0.        , 1.        ],\n",
       "       [0.35980149, 0.64019851],\n",
       "       [0.90839695, 0.09160305],\n",
       "       [0.99753695, 0.00246305],\n",
       "       [0.02445652, 0.97554348],\n",
       "       [0.9673913 , 0.0326087 ],\n",
       "       [0.0104712 , 0.9895288 ],\n",
       "       [0.26902174, 0.73097826],\n",
       "       [0.11979167, 0.88020833],\n",
       "       [0.47355164, 0.52644836],\n",
       "       [0.99238579, 0.00761421],\n",
       "       [0.03133159, 0.96866841],\n",
       "       [0.60162602, 0.39837398],\n",
       "       [0.08101266, 0.91898734],\n",
       "       [0.03475936, 0.96524064],\n",
       "       [0.00262467, 0.99737533],\n",
       "       [0.34210526, 0.65789474],\n",
       "       [1.        , 0.        ],\n",
       "       [0.01785714, 0.98214286],\n",
       "       [0.05398458, 0.94601542],\n",
       "       [0.01340483, 0.98659517],\n",
       "       [0.80585106, 0.19414894],\n",
       "       [0.67938931, 0.32061069],\n",
       "       [0.07336957, 0.92663043],\n",
       "       [1.        , 0.        ],\n",
       "       [0.32439678, 0.67560322],\n",
       "       [0.74352332, 0.25647668],\n",
       "       [0.01033592, 0.98966408],\n",
       "       [0.06068602, 0.93931398],\n",
       "       [0.5038961 , 0.4961039 ],\n",
       "       [0.98666667, 0.01333333],\n",
       "       [0.06860158, 0.93139842],\n",
       "       [0.984     , 0.016     ],\n",
       "       [0.41791045, 0.58208955],\n",
       "       [0.31202046, 0.68797954],\n",
       "       [0.98684211, 0.01315789],\n",
       "       [0.23759791, 0.76240209],\n",
       "       [0.88390501, 0.11609499],\n",
       "       [0.27435897, 0.72564103],\n",
       "       [0.78663239, 0.21336761],\n",
       "       [0.99453552, 0.00546448],\n",
       "       [0.99222798, 0.00777202],\n",
       "       [0.        , 1.        ],\n",
       "       [0.00263852, 0.99736148],\n",
       "       [0.47466667, 0.52533333],\n",
       "       [0.98992443, 0.01007557],\n",
       "       [0.08010336, 0.91989664],\n",
       "       [0.98492462, 0.01507538],\n",
       "       [0.9525066 , 0.0474934 ],\n",
       "       [0.99456522, 0.00543478],\n",
       "       [0.94133333, 0.05866667],\n",
       "       [0.96694215, 0.03305785],\n",
       "       [0.06299213, 0.93700787],\n",
       "       [0.93861893, 0.06138107],\n",
       "       [0.96287129, 0.03712871],\n",
       "       [0.0230179 , 0.9769821 ],\n",
       "       [0.22834646, 0.77165354],\n",
       "       [0.90789474, 0.09210526],\n",
       "       [0.37275064, 0.62724936],\n",
       "       [0.91847826, 0.08152174],\n",
       "       [0.        , 1.        ],\n",
       "       [0.04594595, 0.95405405],\n",
       "       [0.8172043 , 0.1827957 ],\n",
       "       [0.72279793, 0.27720207],\n",
       "       [0.59335038, 0.40664962],\n",
       "       [0.85897436, 0.14102564],\n",
       "       [0.91338583, 0.08661417],\n",
       "       [0.12694301, 0.87305699],\n",
       "       [0.82113821, 0.17886179],\n",
       "       [0.02284264, 0.97715736],\n",
       "       [0.0188172 , 0.9811828 ],\n",
       "       [0.14322917, 0.85677083],\n",
       "       [0.75138122, 0.24861878],\n",
       "       [0.97382199, 0.02617801],\n",
       "       [1.        , 0.        ],\n",
       "       [0.03359173, 0.96640827],\n",
       "       [0.01030928, 0.98969072],\n",
       "       [0.08905852, 0.91094148],\n",
       "       [0.02879581, 0.97120419],\n",
       "       [0.9973822 , 0.0026178 ],\n",
       "       [0.97547684, 0.02452316],\n",
       "       [0.91183879, 0.08816121],\n",
       "       [1.        , 0.        ],\n",
       "       [0.99745547, 0.00254453],\n",
       "       [0.8938992 , 0.1061008 ],\n",
       "       [0.00257732, 0.99742268],\n",
       "       [0.66753927, 0.33246073],\n",
       "       [0.35863874, 0.64136126],\n",
       "       [0.06905371, 0.93094629],\n",
       "       [0.02046036, 0.97953964],\n",
       "       [0.4296875 , 0.5703125 ],\n",
       "       [1.        , 0.        ],\n",
       "       [0.96482412, 0.03517588],\n",
       "       [0.00268097, 0.99731903],\n",
       "       [0.99220779, 0.00779221],\n",
       "       [0.06775068, 0.93224932],\n",
       "       [0.00263852, 0.99736148],\n",
       "       [0.93931398, 0.06068602],\n",
       "       [0.01995012, 0.98004988],\n",
       "       [0.        , 1.        ],\n",
       "       [0.99465241, 0.00534759],\n",
       "       [0.03494624, 0.96505376],\n",
       "       [0.87886598, 0.12113402],\n",
       "       [0.90049751, 0.09950249],\n",
       "       [0.04461942, 0.95538058],\n",
       "       [0.95431472, 0.04568528],\n",
       "       [0.93717277, 0.06282723],\n",
       "       [0.97974684, 0.02025316],\n",
       "       [0.02105263, 0.97894737],\n",
       "       [0.02061856, 0.97938144],\n",
       "       [0.99228792, 0.00771208],\n",
       "       [0.27586207, 0.72413793],\n",
       "       [0.99202128, 0.00797872],\n",
       "       [0.08661417, 0.91338583],\n",
       "       [0.00537634, 0.99462366],\n",
       "       [0.98097826, 0.01902174],\n",
       "       [0.00263158, 0.99736842],\n",
       "       [0.19047619, 0.80952381],\n",
       "       [0.91478697, 0.08521303],\n",
       "       [0.8987013 , 0.1012987 ],\n",
       "       [0.6234414 , 0.3765586 ],\n",
       "       [0.71761658, 0.28238342],\n",
       "       [0.0074813 , 0.9925187 ],\n",
       "       [0.26315789, 0.73684211],\n",
       "       [0.98687664, 0.01312336],\n",
       "       [0.93617021, 0.06382979],\n",
       "       [0.91831683, 0.08168317],\n",
       "       [0.97922078, 0.02077922],\n",
       "       [0.05486284, 0.94513716],\n",
       "       [0.00819672, 0.99180328],\n",
       "       [0.08168317, 0.91831683],\n",
       "       [0.49602122, 0.50397878],\n",
       "       [0.        , 1.        ],\n",
       "       [0.00518135, 0.99481865],\n",
       "       [0.96216216, 0.03783784],\n",
       "       [0.0817942 , 0.9182058 ],\n",
       "       [0.09043928, 0.90956072],\n",
       "       [0.88974359, 0.11025641],\n",
       "       [0.05699482, 0.94300518],\n",
       "       [0.35433071, 0.64566929],\n",
       "       [0.01827676, 0.98172324],\n",
       "       [1.        , 0.        ],\n",
       "       [0.01036269, 0.98963731],\n",
       "       [0.01329787, 0.98670213],\n",
       "       [0.94972067, 0.05027933],\n",
       "       [0.90861619, 0.09138381],\n",
       "       [0.95514512, 0.04485488],\n",
       "       [0.02337662, 0.97662338],\n",
       "       [0.09018568, 0.90981432],\n",
       "       [0.95755968, 0.04244032],\n",
       "       [0.10443864, 0.89556136],\n",
       "       [0.        , 1.        ],\n",
       "       [0.33512064, 0.66487936],\n",
       "       [0.96992481, 0.03007519],\n",
       "       [0.84615385, 0.15384615],\n",
       "       [0.09234828, 0.90765172],\n",
       "       [0.7565445 , 0.2434555 ],\n",
       "       [0.93384224, 0.06615776],\n",
       "       [0.17369727, 0.82630273],\n",
       "       [0.1689008 , 0.8310992 ],\n",
       "       [0.98365123, 0.01634877],\n",
       "       [0.        , 1.        ],\n",
       "       [0.01030928, 0.98969072],\n",
       "       [0.01355014, 0.98644986],\n",
       "       [0.4005305 , 0.5994695 ],\n",
       "       [0.8976378 , 0.1023622 ],\n",
       "       [0.02244389, 0.97755611],\n",
       "       [0.98704663, 0.01295337],\n",
       "       [0.8643617 , 0.1356383 ],\n",
       "       [0.00257069, 0.99742931],\n",
       "       [0.7314578 , 0.2685422 ],\n",
       "       [0.9921875 , 0.0078125 ],\n",
       "       [0.01538462, 0.98461538],\n",
       "       [0.99734748, 0.00265252],\n",
       "       [0.05626598, 0.94373402],\n",
       "       [0.0074813 , 0.9925187 ],\n",
       "       [0.12468193, 0.87531807],\n",
       "       [0.26614987, 0.73385013],\n",
       "       [0.85078534, 0.14921466],\n",
       "       [0.08226221, 0.91773779],\n",
       "       [0.98677249, 0.01322751],\n",
       "       [0.66755319, 0.33244681],\n",
       "       [0.10846561, 0.89153439],\n",
       "       [0.72533333, 0.27466667],\n",
       "       [0.86178862, 0.13821138],\n",
       "       [0.01542416, 0.98457584],\n",
       "       [0.99469496, 0.00530504],\n",
       "       [0.01856764, 0.98143236],\n",
       "       [0.00261097, 0.99738903],\n",
       "       [0.75128205, 0.24871795],\n",
       "       [0.0025974 , 0.9974026 ],\n",
       "       [0.98955614, 0.01044386],\n",
       "       [0.09254499, 0.90745501],\n",
       "       [0.78225806, 0.21774194],\n",
       "       [0.15789474, 0.84210526],\n",
       "       [0.98611111, 0.01388889],\n",
       "       [0.89637306, 0.10362694],\n",
       "       [0.01846966, 0.98153034],\n",
       "       [0.08415842, 0.91584158],\n",
       "       [0.14666667, 0.85333333],\n",
       "       [0.09343434, 0.90656566],\n",
       "       [0.00262467, 0.99737533],\n",
       "       [0.98918919, 0.01081081],\n",
       "       [0.85117493, 0.14882507],\n",
       "       [0.2109375 , 0.7890625 ],\n",
       "       [0.92447917, 0.07552083],\n",
       "       [0.07588076, 0.92411924],\n",
       "       [0.63567839, 0.36432161],\n",
       "       [0.14357683, 0.85642317],\n",
       "       [0.96266667, 0.03733333],\n",
       "       [0.88219895, 0.11780105],\n",
       "       [0.01052632, 0.98947368],\n",
       "       [0.93766938, 0.06233062],\n",
       "       [0.89528796, 0.10471204],\n",
       "       [0.        , 1.        ],\n",
       "       [0.04619565, 0.95380435],\n",
       "       [1.        , 0.        ],\n",
       "       [0.02645503, 0.97354497],\n",
       "       [0.99202128, 0.00797872],\n",
       "       [0.09424084, 0.90575916],\n",
       "       [0.90861619, 0.09138381],\n",
       "       [0.99731183, 0.00268817],\n",
       "       [0.00539084, 0.99460916],\n",
       "       [0.05066667, 0.94933333],\n",
       "       [0.69451697, 0.30548303],\n",
       "       [0.00259067, 0.99740933],\n",
       "       [1.        , 0.        ],\n",
       "       [0.69170984, 0.30829016],\n",
       "       [0.86472149, 0.13527851],\n",
       "       [0.99479167, 0.00520833],\n",
       "       [0.73299748, 0.26700252],\n",
       "       [0.48600509, 0.51399491],\n",
       "       [0.02122016, 0.97877984],\n",
       "       [0.8643617 , 0.1356383 ],\n",
       "       [0.0188172 , 0.9811828 ],\n",
       "       [1.        , 0.        ],\n",
       "       [0.77358491, 0.22641509],\n",
       "       [0.99741602, 0.00258398],\n",
       "       [1.        , 0.        ],\n",
       "       [0.81382979, 0.18617021],\n",
       "       [0.296     , 0.704     ],\n",
       "       [0.15968586, 0.84031414],\n",
       "       [0.24870466, 0.75129534],\n",
       "       [0.00263852, 0.99736148],\n",
       "       [0.74519231, 0.25480769],\n",
       "       [0.8773842 , 0.1226158 ],\n",
       "       [0.02077922, 0.97922078],\n",
       "       [1.        , 0.        ],\n",
       "       [0.97097625, 0.02902375],\n",
       "       [0.99734748, 0.00265252],\n",
       "       [0.        , 1.        ],\n",
       "       [0.11315789, 0.88684211],\n",
       "       [0.9201995 , 0.0798005 ],\n",
       "       [0.93121693, 0.06878307],\n",
       "       [1.        , 0.        ],\n",
       "       [0.24184783, 0.75815217],\n",
       "       [0.98481013, 0.01518987],\n",
       "       [0.12368421, 0.87631579],\n",
       "       [0.93246753, 0.06753247],\n",
       "       [0.08130081, 0.91869919],\n",
       "       [0.98365123, 0.01634877],\n",
       "       [0.99740933, 0.00259067],\n",
       "       [0.98721228, 0.01278772],\n",
       "       [0.00539084, 0.99460916],\n",
       "       [0.91374663, 0.08625337],\n",
       "       [0.00518135, 0.99481865],\n",
       "       [0.05249344, 0.94750656],\n",
       "       [0.05820106, 0.94179894],\n",
       "       [0.        , 1.        ],\n",
       "       [1.        , 0.        ],\n",
       "       [0.98128342, 0.01871658],\n",
       "       [0.        , 1.        ],\n",
       "       [0.95800525, 0.04199475],\n",
       "       [0.09641873, 0.90358127],\n",
       "       [0.9872449 , 0.0127551 ],\n",
       "       [0.22335025, 0.77664975],\n",
       "       [0.01066667, 0.98933333],\n",
       "       [0.05929919, 0.94070081],\n",
       "       [0.        , 1.        ],\n",
       "       [0.80851064, 0.19148936],\n",
       "       [0.08060453, 0.91939547],\n",
       "       [0.11369509, 0.88630491],\n",
       "       [0.99492386, 0.00507614],\n",
       "       [0.94444444, 0.05555556],\n",
       "       [0.24871795, 0.75128205],\n",
       "       [0.94910941, 0.05089059],\n",
       "       [0.05866667, 0.94133333],\n",
       "       [0.09424084, 0.90575916],\n",
       "       [0.99468085, 0.00531915],\n",
       "       [0.94642857, 0.05357143],\n",
       "       [0.54145078, 0.45854922],\n",
       "       [0.87792208, 0.12207792],\n",
       "       [0.99491094, 0.00508906],\n",
       "       [0.035     , 0.965     ],\n",
       "       [0.95607235, 0.04392765],\n",
       "       [0.04632153, 0.95367847],\n",
       "       [0.11989101, 0.88010899],\n",
       "       [0.96266667, 0.03733333],\n",
       "       [1.        , 0.        ],\n",
       "       [0.07427056, 0.92572944],\n",
       "       [0.72368421, 0.27631579]])"
      ]
     },
     "execution_count": 13,
     "metadata": {},
     "output_type": "execute_result"
    }
   ],
   "source": [
    "bag_clf.oob_decision_function_ # Class probability for each instance"
   ]
  },
  {
   "cell_type": "markdown",
   "id": "b2e04195",
   "metadata": {},
   "source": [
    "## RANDOM PATCHES AND RANDOM SUBSPACES\n",
    "### RANDOM PATCHES METHOD: Sampling both training instances and features\n",
    "- Each predictor will be trained in a different subset of features\n",
    "\n",
    "### RANDOM SUBSPACES METHOD: Keeping all training instances (bootstrap=False and max_samples=1) but sampling features ( bootstrap_features=True and/or max_features<1\n",
    "- Sampling features results in even more predictor diversity, more bias and lower variance"
   ]
  },
  {
   "cell_type": "markdown",
   "id": "8f204959",
   "metadata": {},
   "source": [
    "# RANDOM FOREST\n",
    "- An ensemble of Decision Trees, generally trained via Bagging, typically with max_samples set to the size of the training set. \n",
    "- Use the class RandomForestClassifier which is optimized for this porpuse\n",
    "- With a few exceptions RFC has everithing to deal whit esambling"
   ]
  },
  {
   "cell_type": "code",
   "execution_count": 14,
   "id": "79c1b969",
   "metadata": {},
   "outputs": [],
   "source": [
    "from sklearn.ensemble import RandomForestClassifier\n",
    "\n",
    "rnd_clf = RandomForestClassifier(n_estimators=500, max_leaf_nodes=16, n_jobs=-1)\n",
    "rnd_clf.fit(X_train, y_train)\n",
    "\n",
    "y_pred_rf = rnd_clf.predict(X_test)"
   ]
  },
  {
   "cell_type": "code",
   "execution_count": 15,
   "id": "9ea2da70",
   "metadata": {},
   "outputs": [],
   "source": [
    "bag_clf = BaggingClassifier( DecisionTreeClassifier(splitter=\"random\", max_leaf_nodes=16),\n",
    "                           n_estimators=500, max_samples=1.0, bootstrap=True, n_jobs=-1)"
   ]
  },
  {
   "cell_type": "markdown",
   "id": "222f52c8",
   "metadata": {},
   "source": [
    "## FEATURE IMPORTANCE"
   ]
  },
  {
   "cell_type": "markdown",
   "id": "1fa01af6",
   "metadata": {},
   "source": [
    "### IRIS DATASET"
   ]
  },
  {
   "cell_type": "code",
   "execution_count": 16,
   "id": "f2b8ff9f",
   "metadata": {},
   "outputs": [
    {
     "name": "stdout",
     "output_type": "stream",
     "text": [
      "sepal length (cm) 0.09619797280322026\n",
      "sepal width (cm) 0.023378262984672746\n",
      "petal length (cm) 0.4270690667304022\n",
      "petal width (cm) 0.4533546974817048\n"
     ]
    }
   ],
   "source": [
    "from sklearn.datasets import load_iris\n",
    "iris = load_iris()\n",
    "rnd_clf = RandomForestClassifier(n_estimators=500, n_jobs=-1)\n",
    "rnd_clf.fit(iris[\"data\"], iris[\"target\"])\n",
    "for name, score in zip(iris[\"feature_names\"], rnd_clf.feature_importances_):\n",
    "    print(name, score)"
   ]
  },
  {
   "cell_type": "markdown",
   "id": "6c1109c2",
   "metadata": {},
   "source": [
    "## MNIST dataset"
   ]
  },
  {
   "cell_type": "code",
   "execution_count": 18,
   "id": "cdc6e9a8",
   "metadata": {},
   "outputs": [
    {
     "data": {
      "text/plain": [
       "RandomForestClassifier(random_state=42)"
      ]
     },
     "execution_count": 18,
     "metadata": {},
     "output_type": "execute_result"
    }
   ],
   "source": [
    "\n",
    "from sklearn.datasets import fetch_openml\n",
    "import numpy as np\n",
    "\n",
    "mnist = fetch_openml('mnist_784', version=1, as_frame=False)\n",
    "mnist.target = mnist.target.astype(np.uint8)\n",
    "\n",
    "rnd_clf = RandomForestClassifier(n_estimators=100, random_state=42)\n",
    "rnd_clf.fit(mnist[\"data\"], mnist[\"target\"])\n"
   ]
  },
  {
   "cell_type": "code",
   "execution_count": 22,
   "id": "9af7fb1d",
   "metadata": {},
   "outputs": [
    {
     "data": {
      "text/plain": [
       "[Text(1, 0.0, 'Not important'),\n",
       " Text(1, 0.009791489757332336, 'Very important')]"
      ]
     },
     "execution_count": 22,
     "metadata": {},
     "output_type": "execute_result"
    },
    {
     "data": {
      "image/png": "[encoded data removed]",
      "text/plain": [
       "<Figure size 432x288 with 2 Axes>"
      ]
     },
     "metadata": {
      "needs_background": "light"
     },
     "output_type": "display_data"
    }
   ],
   "source": [
    "import matplotlib as mpl\n",
    "from matplotlib import pyplot as plt\n",
    "def plot_digit(data):\n",
    "    image = data.reshape(28, 28)\n",
    "    plt.imshow(image, cmap = mpl.cm.hot,\n",
    "               interpolation=\"nearest\")\n",
    "    plt.axis(\"off\")\n",
    "    \n",
    "plot_digit(rnd_clf.feature_importances_)\n",
    "\n",
    "cbar = plt.colorbar(ticks=[rnd_clf.feature_importances_.min(), rnd_clf.feature_importances_.max()])\n",
    "cbar.ax.set_yticklabels(['Not important', 'Very important'])"
   ]
  },
  {
   "cell_type": "markdown",
   "id": "5dc12545",
   "metadata": {},
   "source": [
    "# BOOSTING\n",
    "- Any Ensemble method that can combine several weak learners into a stronger learner. The general idea of most boosting methods is to train predctors sequentially, each trying to correct its predecessor"
   ]
  },
  {
   "cell_type": "markdown",
   "id": "1909250d",
   "metadata": {},
   "source": [
    "# AdaBoost: Adaptive Boosting\n",
    "- Pay a little bit more attention to the training instances that the predecessor underfitted.\n",
    "- This results in new predictors focusing more and more on the hard cases\n",
    "- FOR EXAMPLE:\n",
    "    - First trains a base classifier (such as a Decission Tree) and uses it to make predictions on the trainin set. The algorithm then increases the relative wieghts of misclassified training instanecs.\n",
    "    - The it trains a Secon classifier, using the updated weights, and again makes predictions on the training set."
   ]
  },
  {
   "cell_type": "code",
   "execution_count": 23,
   "id": "ccb79c56",
   "metadata": {},
   "outputs": [
    {
     "data": {
      "text/plain": [
       "AdaBoostClassifier(base_estimator=DecisionTreeClassifier(max_depth=1),\n",
       "                   learning_rate=0.5, n_estimators=200)"
      ]
     },
     "execution_count": 23,
     "metadata": {},
     "output_type": "execute_result"
    }
   ],
   "source": [
    "from sklearn.ensemble import AdaBoostClassifier\n",
    "\n",
    "ada_clf = AdaBoostClassifier(DecisionTreeClassifier(max_depth=1), n_estimators=200,\n",
    "                            algorithm=\"SAMME.R\", learning_rate=0.5)\n",
    "ada_clf.fit(X_train, y_train)"
   ]
  },
  {
   "cell_type": "markdown",
   "id": "97ccbdcb",
   "metadata": {},
   "source": [
    "# GRADIENT BOOSTING\n",
    "- Works by sequentially adding predictors to an ensemble, each one correcting its predecessor\n",
    "- Instead of tewking wights at everty iteration like AdaBoost does, this method tries to fit the new predictor to the \"residual errors\" made by the previous predictor."
   ]
  },
  {
   "cell_type": "markdown",
   "id": "fc253c98",
   "metadata": {},
   "source": [
    "### GRADIENT TREE BOOSTING or GRADIENT BOOSTED REGRESSION TREES (GBRT)\n",
    "- First, let's fit a DecissionTreeREgressor to the treaining set"
   ]
  },
  {
   "cell_type": "code",
   "execution_count": 24,
   "id": "18026006",
   "metadata": {},
   "outputs": [],
   "source": [
    "np.random.seed(42)\n",
    "X = np.random.rand(100, 1) - 0.5\n",
    "y = 3*X[:, 0]**2 + 0.05 * np.random.randn(100)"
   ]
  },
  {
   "cell_type": "code",
   "execution_count": 25,
   "id": "7f4a9f55",
   "metadata": {},
   "outputs": [
    {
     "data": {
      "text/plain": [
       "DecisionTreeRegressor(max_depth=2)"
      ]
     },
     "execution_count": 25,
     "metadata": {},
     "output_type": "execute_result"
    }
   ],
   "source": [
    "from sklearn.tree import DecisionTreeRegressor\n",
    "\n",
    "tree_reg1 = DecisionTreeRegressor(max_depth=2)\n",
    "tree_reg1.fit(X, y)\n",
    "\n",
    "y2 = y - tree_reg1.predict(X)\n",
    "\n",
    "tree_reg2 = DecisionTreeRegressor(max_depth=2)\n",
    "tree_reg2.fit(X, y2)\n",
    "\n",
    "y3 = y2 - tree_reg2.predict(X)\n",
    "\n",
    "tree_reg3 = DecisionTreeRegressor(max_depth=2)\n",
    "tree_reg3.fit(X, y3)"
   ]
  },
  {
   "cell_type": "code",
   "execution_count": 28,
   "id": "382de0ad",
   "metadata": {},
   "outputs": [],
   "source": [
    "X_new = np.array([[0.8]])\n",
    "y_pred = sum(tree.predict(X_new) for tree in (tree_reg1, tree_reg2, tree_reg3))"
   ]
  },
  {
   "cell_type": "markdown",
   "id": "28811493",
   "metadata": {},
   "source": [
    " - Or using directly Scikit-Learn to train GBRT ensembles"
   ]
  },
  {
   "cell_type": "code",
   "execution_count": 29,
   "id": "b6e0f800",
   "metadata": {},
   "outputs": [
    {
     "data": {
      "text/plain": [
       "GradientBoostingRegressor(max_depth=2, n_estimators=3)"
      ]
     },
     "execution_count": 29,
     "metadata": {},
     "output_type": "execute_result"
    }
   ],
   "source": [
    "from sklearn.ensemble import GradientBoostingRegressor\n",
    "\n",
    "gbrt= GradientBoostingRegressor(max_depth=2, n_estimators=3, learning_rate=0.1)\n",
    "gbrt.fit(X, y)"
   ]
  },
  {
   "cell_type": "markdown",
   "id": "055890ab",
   "metadata": {},
   "source": [
    "#### IN ORDER TO FIND THE OPTIMAL NUMBER OF TREES, YOU CAN USE EARLY STOPPING"
   ]
  },
  {
   "cell_type": "code",
   "execution_count": 30,
   "id": "91f28d57",
   "metadata": {},
   "outputs": [
    {
     "data": {
      "text/plain": [
       "GradientBoostingRegressor(max_depth=2, n_estimators=85)"
      ]
     },
     "execution_count": 30,
     "metadata": {},
     "output_type": "execute_result"
    }
   ],
   "source": [
    "import numpy as np\n",
    "from sklearn.model_selection import train_test_split\n",
    "from sklearn.metrics import mean_squared_error\n",
    "\n",
    "X_train, X_val, y_train, y_val = train_test_split(X, y)\n",
    "gbrt = GradientBoostingRegressor(max_depth=2, n_estimators=120)\n",
    "gbrt.fit(X_train, y_train)\n",
    "\n",
    "errors= [mean_squared_error(y_val, y_pred)\n",
    "        for y_pred in gbrt.staged_predict(X_val)]\n",
    "best_n_estimators = np.argmin(errors) + 1\n",
    "\n",
    "gbrt_best= GradientBoostingRegressor(max_depth=2, n_estimators=best_n_estimators)\n",
    "gbrt_best.fit(X_trainin, y_train)"
   ]
  },
  {
   "cell_type": "code",
   "execution_count": 34,
   "id": "91cf6282",
   "metadata": {},
   "outputs": [
    {
     "data": {
      "text/plain": [
       "Text(0.5, 0, '$x_1$')"
      ]
     },
     "execution_count": 34,
     "metadata": {},
     "output_type": "execute_result"
    },
    {
     "data": {
      "image/png": "[encoded data removed]",
      "text/plain": [
       "<Figure size 720x288 with 2 Axes>"
      ]
     },
     "metadata": {
      "needs_background": "light"
     },
     "output_type": "display_data"
    }
   ],
   "source": [
    "\n",
    "def plot_predictions(regressors, X, y, axes, label=None, style=\"r-\", data_style=\"b.\", data_label=None):\n",
    "    x1 = np.linspace(axes[0], axes[1], 500)\n",
    "    y_pred = sum(regressor.predict(x1.reshape(-1, 1)) for regressor in regressors)\n",
    "    plt.plot(X[:, 0], y, data_style, label=data_label)\n",
    "    plt.plot(x1, y_pred, style, linewidth=2, label=label)\n",
    "    if label or data_label:\n",
    "        plt.legend(loc=\"upper center\", fontsize=16)\n",
    "    plt.axis(axes)\n",
    "\n",
    "\n",
    "\n",
    "min_error = np.min(errors)\n",
    "plt.figure(figsize=(10, 4))\n",
    "\n",
    "plt.subplot(121)\n",
    "plt.plot(np.arange(1, len(errors) + 1), errors, \"b.-\")\n",
    "plt.plot([best_n_estimators, best_n_estimators], [0, min_error], \"k--\")\n",
    "plt.plot([0, 120], [min_error, min_error], \"k--\")\n",
    "plt.plot(best_n_estimators, min_error, \"ko\")\n",
    "plt.text(best_n_estimators, min_error*1.2, \"Minimum\", ha=\"center\", fontsize=14)\n",
    "plt.axis([0, 120, 0, 0.01])\n",
    "plt.xlabel(\"Number of trees\")\n",
    "plt.ylabel(\"Error\", fontsize=16)\n",
    "plt.title(\"Validation error\", fontsize=14)\n",
    "\n",
    "plt.subplot(122)\n",
    "plot_predictions([gbrt_best], X, y, axes=[-0.5, 0.5, -0.1, 0.8])\n",
    "plt.title(\"Best model (%d trees)\" % best_n_estimators, fontsize=14)\n",
    "plt.ylabel(\"$y$\", fontsize=16, rotation=0)\n",
    "plt.xlabel(\"$x_1$\", fontsize=16)\n",
    "\n",
    "\n"
   ]
  },
  {
   "cell_type": "markdown",
   "id": "e59dedde",
   "metadata": {},
   "source": [
    "### It's possible to implement EARLY STTOPING\n",
    "- By setting \"warm_start=True\"\n",
    "- The folowwing code stops when training the validation error does not improve for five iterations in a row"
   ]
  },
  {
   "cell_type": "code",
   "execution_count": 35,
   "id": "973425ae",
   "metadata": {},
   "outputs": [],
   "source": [
    "gbrt = GradientBoostingRegressor(max_depth=2, warm_start=True)\n",
    "\n",
    "min_val_error = float(\"inf\")\n",
    "error_going_up = 0\n",
    "\n",
    "for n_estimators in range(1,120):\n",
    "    gbrt.n_estimators = n_estimators\n",
    "    gbrt.fit(X_train, y_train)\n",
    "    y_pred = gbrt.predict(X_val)\n",
    "    val_error = mean_squared_error(y_val, y_pred)\n",
    "    if val_error < min_val_error:\n",
    "        min_val_error = val_error\n",
    "        error_going_up=0\n",
    "    else:\n",
    "        error_going_up += 1\n",
    "        if error_going_up == 5:\n",
    "            break #early stopping"
   ]
  },
  {
   "cell_type": "markdown",
   "id": "2e92302a",
   "metadata": {},
   "source": [
    "## A MORE POWERFULL APPROACH USING XGBoost"
   ]
  },
  {
   "cell_type": "code",
   "execution_count": 36,
   "id": "55a2d06d",
   "metadata": {},
   "outputs": [
    {
     "ename": "ModuleNotFoundError",
     "evalue": "No module named 'xgboost'",
     "output_type": "error",
     "traceback": [
      "\u001b[0;31m---------------------------------------------------------------------------\u001b[0m",
      "\u001b[0;31mModuleNotFoundError\u001b[0m                       Traceback (most recent call last)",
      "Input \u001b[0;32mIn [36]\u001b[0m, in \u001b[0;36m<cell line: 1>\u001b[0;34m()\u001b[0m\n\u001b[0;32m----> 1\u001b[0m \u001b[38;5;28;01mimport\u001b[39;00m \u001b[38;5;21;01mxgboost\u001b[39;00m\n",
      "\u001b[0;31mModuleNotFoundError\u001b[0m: No module named 'xgboost'"
     ]
    }
   ],
   "source": [
    "import xgboost"
   ]
  },
  {
   "cell_type": "markdown",
   "id": "e1ca5859",
   "metadata": {},
   "source": [
    "# STACKING: Last Ensemble method we will discuss\n",
    "- Stacked Generalization\n",
    "- Instead of using trivial functions to aggregate the preddictions of all predictios in an ensemble, why don't we train a model to perform this aggregation?\n",
    "- Final Predictor: A Blender or a Meta Lerner\n",
    "    - TO TRAIN A BLENDER: Use a hold-out set:\n",
    "    - First the tarining set is split into 2 subsets. \n",
    "        - The fisrt Subset: Its used to train the rpedictors in the first layer\n",
    "        - Next, the first Layer's predictor are used to make predictions on the second (held-out) set.\n",
    "        - This ensures that the predictions are \"clean\", since the predictores never saw the instancecs during training. \n",
    "        - FOr each instance in the hold-out set there are predicted values.\n",
    "        - We can create a new training set using these predicted values as input features and keeping the target values. THE BLENDER IS TRAINED in this new TRaining set\n",
    "        - So it learns to predic the target value, given the first layer's predictions\n",
    "         \n",
    " - The TRICK is to SPLIT THE TRAINING SET into 3 different subsets\n",
    "     - FISRT ONE: Used to train the fisrt layer \n",
    "     - SECOND ONE: Used to create a traininn set used to train the second layer (using predictions made by the first layer)\n",
    "     - THIRD ONE: Used to create the training set to train the third layer( using predictions made by predictions of the second layer\n",
    "##### ONCE THIS IS DONE, WE CAN MAKE PREDICTION FOR A NEW INSTANCE BY GOING THROUGH  EACH LAYER SEQUENTIALLY"
   ]
  },
  {
   "cell_type": "code",
   "execution_count": null,
   "id": "68b695d7",
   "metadata": {},
   "outputs": [],
   "source": []
  },
  {
   "cell_type": "code",
   "execution_count": null,
   "id": "a2ed70c2",
   "metadata": {},
   "outputs": [],
   "source": []
  }
 ],
 "metadata": {
  "kernelspec": {
   "display_name": "Python 3 (ipykernel)",
   "language": "python",
   "name": "python3"
  },
  "language_info": {
   "codemirror_mode": {
    "name": "ipython",
    "version": 3
   },
   "file_extension": ".py",
   "mimetype": "text/x-python",
   "name": "python",
   "nbconvert_exporter": "python",
   "pygments_lexer": "ipython3",
   "version": "3.9.12"
  }
 },
 "nbformat": 4,
 "nbformat_minor": 5
}
