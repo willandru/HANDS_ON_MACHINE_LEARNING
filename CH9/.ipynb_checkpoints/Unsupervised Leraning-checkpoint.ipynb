{
 "cells": [
  {
   "cell_type": "markdown",
   "id": "4c983349",
   "metadata": {},
   "source": [
    "# CLUSTERING : The task of identifying similar instances and assigning them to \"clusters\""
   ]
  },
  {
   "cell_type": "code",
   "execution_count": 7,
   "id": "5fb7661f",
   "metadata": {},
   "outputs": [
    {
     "data": {
      "text/plain": [
       "array(['setosa', 'versicolor', 'virginica'], dtype='<U10')"
      ]
     },
     "execution_count": 7,
     "metadata": {},
     "output_type": "execute_result"
    }
   ],
   "source": [
    "#LOAD THE IRIS DATA SET\n",
    "from sklearn.datasets import load_iris\n",
    "data = load_iris()\n",
    "X= data.data\n",
    "y= data.target\n",
    "data.target_names"
   ]
  },
  {
   "cell_type": "code",
   "execution_count": null,
   "id": "78292ccb",
   "metadata": {},
   "outputs": [],
   "source": []
  },
  {
   "cell_type": "code",
   "execution_count": null,
   "id": "fa8e71bc",
   "metadata": {},
   "outputs": [],
   "source": []
  },
  {
   "cell_type": "code",
   "execution_count": null,
   "id": "c470fcf8",
   "metadata": {},
   "outputs": [],
   "source": []
  },
  {
   "cell_type": "markdown",
   "id": "c3be6868",
   "metadata": {},
   "source": [
    "## Classification(left) vs Clustering(right)"
   ]
  },
  {
   "cell_type": "code",
   "execution_count": 9,
   "id": "e96d8fec",
   "metadata": {},
   "outputs": [
    {
     "data": {
      "image/png": "[encoded data removed]",
      "text/plain": [
       "<Figure size 648x252 with 2 Axes>"
      ]
     },
     "metadata": {
      "needs_background": "light"
     },
     "output_type": "display_data"
    }
   ],
   "source": [
    "from matplotlib import pyplot as plt\n",
    "plt.figure(figsize=(9, 3.5))\n",
    "\n",
    "plt.subplot(121)\n",
    "plt.plot(X[y==0, 2], X[y==0, 3], \"yo\", label=\"Iris setosa\")\n",
    "plt.plot(X[y==1, 2], X[y==1, 3], \"bs\", label=\"Iris versicolor\")\n",
    "plt.plot(X[y==2, 2], X[y==2, 3], \"g^\", label=\"Iris virginica\")\n",
    "plt.xlabel(\"Petal length\", fontsize=14)\n",
    "plt.ylabel(\"Petal width\", fontsize=14)\n",
    "plt.legend(fontsize=12)\n",
    "\n",
    "plt.subplot(122)\n",
    "plt.scatter(X[:, 2], X[:, 3], c=\"k\", marker=\".\")\n",
    "plt.xlabel(\"Petal length\", fontsize=14)\n",
    "plt.tick_params(labelleft=False)"
   ]
  },
  {
   "cell_type": "markdown",
   "id": "eeec714d",
   "metadata": {},
   "source": [
    "### CLUSTERING USED FOR:\n",
    "- Customer Segmentation: Based on their purchases and their activity on your website. Useful in recomender systems to suggest content that other users in the same cluster enjoyed. }\n",
    "        \n",
    "- Data Analysis: GOOD IDEA to run alwaysa clustering algorithm and then analyze each cluster separatly.\n",
    "\n",
    "- As a DIMENSIONALITY REDUCTION TECHNIQUE: measring each cluster distance for example, instance affinity for each clustter. Each instnce features vector X can then be repalced with the vector of its cluster affinities, tipically much lower dimension than the original features, perserves enogh information for further processing.\n",
    "\n",
    "- ANOMALY DETECTION: (OUTLIER DETECTION) Any instance with low affinity to all clusters is likely to be an anomaly.\n",
    "\n",
    "- SEMI-SUPERVISED LEARNING: If you only have a few instances in you dataset, tou can propagate the labels to all the instances in the same cluster\n",
    "\n",
    "- FOR SEARCH ENGINES: You search an image that is a reference to an image. You frst apply clustering algorithm to all the instances in your database; similar features will end up in the same cluster. Use this model to find new fetures cluster, and then simply return all the instances for taht respective clustter. \n",
    "\n",
    "### WHAT IS A CLUSTER:\n",
    " - Some clusters are centered around a particular point called the center.\n",
    " - Other algorithms look for clusters that are formed by continuos regions of densily packed instances\n",
    " - Other clusters are hierarchical"
   ]
  },
  {
   "cell_type": "code",
   "execution_count": null,
   "id": "52c9a33a",
   "metadata": {},
   "outputs": [],
   "source": []
  },
  {
   "cell_type": "code",
   "execution_count": null,
   "id": "1243b121",
   "metadata": {},
   "outputs": [],
   "source": []
  },
  {
   "cell_type": "code",
   "execution_count": null,
   "id": "23833749",
   "metadata": {},
   "outputs": [],
   "source": []
  },
  {
   "cell_type": "code",
   "execution_count": null,
   "id": "cf71e200",
   "metadata": {},
   "outputs": [],
   "source": []
  }
 ],
 "metadata": {
  "kernelspec": {
   "display_name": "Python 3 (ipykernel)",
   "language": "python",
   "name": "python3"
  },
  "language_info": {
   "codemirror_mode": {
    "name": "ipython",
    "version": 3
   },
   "file_extension": ".py",
   "mimetype": "text/x-python",
   "name": "python",
   "nbconvert_exporter": "python",
   "pygments_lexer": "ipython3",
   "version": "3.9.12"
  }
 },
 "nbformat": 4,
 "nbformat_minor": 5
}
