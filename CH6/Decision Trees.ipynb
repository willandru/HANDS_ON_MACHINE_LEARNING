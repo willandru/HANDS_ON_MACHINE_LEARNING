{
 "cells": [
  {
   "cell_type": "markdown",
   "id": "37063459",
   "metadata": {},
   "source": [
    "# Trainig and Visualizing a Decision Tree"
   ]
  },
  {
   "cell_type": "code",
   "execution_count": 1,
   "id": "929a8c48",
   "metadata": {},
   "outputs": [
    {
     "data": {
      "text/plain": [
       "DecisionTreeClassifier(max_depth=2)"
      ]
     },
     "execution_count": 1,
     "metadata": {},
     "output_type": "execute_result"
    }
   ],
   "source": [
    "from sklearn.datasets import load_iris\n",
    "from sklearn.tree import DecisionTreeClassifier\n",
    "\n",
    "iris = load_iris()\n",
    "X = iris.data[:,2:] #petal length and width\n",
    "y = iris.target\n",
    "\n",
    "tree_clf = DecisionTreeClassifier(max_depth=2)\n",
    "tree_clf.fit(X, y)"
   ]
  },
  {
   "cell_type": "markdown",
   "id": "cadd63d4",
   "metadata": {},
   "source": [
    "\n",
    " - They do not require feature scaling or centering at all ¡.\n",
    " - CART algorith produces trees whit only 2 branches per node\n",
    " - Others like ID3 can produce trees whit more than 2 branches"
   ]
  },
  {
   "cell_type": "code",
   "execution_count": 2,
   "id": "f482fc3c",
   "metadata": {},
   "outputs": [],
   "source": [
    "import os\n",
    "\n",
    "PROJECT_ROOT_DIR = \".\"\n",
    "IMAGES_PATH = os.path.join(PROJECT_ROOT_DIR, \"images\")\n",
    "os.makedirs(IMAGES_PATH, exist_ok=True)\n",
    "\n",
    "from sklearn.tree import export_graphviz\n",
    "\n",
    "export_graphviz(\n",
    "        tree_clf,\n",
    "        out_file=os.path.join(IMAGES_PATH, \"iris_tree.dot\"),\n",
    "        feature_names=iris.feature_names[2:],\n",
    "        class_names=iris.target_names,\n",
    "        rounded=True,\n",
    "        filled=True\n",
    "    )"
   ]
  },
  {
   "cell_type": "markdown",
   "id": "ea9945e0",
   "metadata": {},
   "source": [
    "### ESTIMATING CLASS PROBABILITIES"
   ]
  },
  {
   "cell_type": "code",
   "execution_count": 3,
   "id": "37687f50",
   "metadata": {},
   "outputs": [
    {
     "data": {
      "text/plain": [
       "array([[0.        , 0.90740741, 0.09259259]])"
      ]
     },
     "execution_count": 3,
     "metadata": {},
     "output_type": "execute_result"
    }
   ],
   "source": [
    "tree_clf.predict_proba([[5, 1.5]])"
   ]
  },
  {
   "cell_type": "code",
   "execution_count": 4,
   "id": "1db49b99",
   "metadata": {},
   "outputs": [
    {
     "data": {
      "text/plain": [
       "array([1])"
      ]
     },
     "execution_count": 4,
     "metadata": {},
     "output_type": "execute_result"
    }
   ],
   "source": [
    "tree_clf.predict([[5 , 1.5]])"
   ]
  },
  {
   "cell_type": "markdown",
   "id": "da1239f8",
   "metadata": {},
   "source": [
    "## THE CART TRAINING ALGORITHM\n",
    "- First splitting the training set into two subsets using a single feature k and a treshold t_k.\n",
    "- ¿How does it choose k and t_k?: Equation CART cost function for classification\n",
    "- Once split the training set in two, it splits the subset using the same logic, and so on recursevely. It stops onces it reaches a maximum depth (max_depth hyperparameter), or if it cannot FIND A SPLIT THT REDUCE IMPURITY, then a few others hyperparameters control additional sttoping conditions: min_samples_split, min_samples_leaf, min_weight_fraction_leaf and max_leaf_nodes \n",
    "- It is a GREEDY SEARCH ALGORITHM\n",
    "#### COPUTATIONAL COMPLEXITY:\n",
    "- They are very fast even whit large dataset O(log_2(m)) independent of the number of features.\n",
    "\n",
    "### Gini Impurity or Entropy?\n",
    "- By default \"Gini impurity\" measure is used\n",
    "- Or set hyperparameter criterion=\"entropy\"\n",
    "- Entropy is 0 when all instances are identical\n",
    "- ENTROPY: An impurity measure: a set's entropy is zero when it contains instances of only one class                                 \n",
    "\n",
    "### REGULARIZATION HYPERPARAMETERS\n",
    "- NONPARAMETRIC MODEL TAHT MAKES FEW ASSUMPTIONS ABOUT THE TRAINING DATA. If left unconstrained, the tree structure will adapt itself to the training data, most likely overfitting it . (It has a lot of parameters, but because the number of parameters is not determined prior to training.  IN contrast to a parametric model like linear model,which has certain degrees of fredom reducing the risk of overfitting.\n",
    "\n",
    "- \"max_depth\"=defalut=None = unlimited\n",
    "- \"min_samples_split\" = the min number of samples a node has to have before it can be split\n",
    "- \"min_samples_leaf\" = the minimum number of samples a leaf node must have\n",
    "- INCREASING min_* or DECREASING max_*  HYPERPARAMETERS will regularize the model"
   ]
  },
  {
   "cell_type": "code",
   "execution_count": 8,
   "id": "3bb97863",
   "metadata": {},
   "outputs": [
    {
     "data": {
      "image/png": "[encoded data removed]",
      "text/plain": [
       "<Figure size 720x288 with 2 Axes>"
      ]
     },
     "metadata": {
      "needs_background": "light"
     },
     "output_type": "display_data"
    }
   ],
   "source": [
    "from sklearn.datasets import make_moons\n",
    "from matplotlib import pyplot as plt\n",
    "import numpy as np\n",
    "\n",
    "from matplotlib.colors import ListedColormap\n",
    "\n",
    "def plot_decision_boundary(clf, X, y, axes=[0, 7.5, 0, 3], iris=True, legend=False, plot_training=True):\n",
    "    x1s = np.linspace(axes[0], axes[1], 100)\n",
    "    x2s = np.linspace(axes[2], axes[3], 100)\n",
    "    x1, x2 = np.meshgrid(x1s, x2s)\n",
    "    X_new = np.c_[x1.ravel(), x2.ravel()]\n",
    "    y_pred = clf.predict(X_new).reshape(x1.shape)\n",
    "    custom_cmap = ListedColormap(['#fafab0','#9898ff','#a0faa0'])\n",
    "    plt.contourf(x1, x2, y_pred, alpha=0.3, cmap=custom_cmap)\n",
    "    if not iris:\n",
    "        custom_cmap2 = ListedColormap(['#7d7d58','#4c4c7f','#507d50'])\n",
    "        plt.contour(x1, x2, y_pred, cmap=custom_cmap2, alpha=0.8)\n",
    "    if plot_training:\n",
    "        plt.plot(X[:, 0][y==0], X[:, 1][y==0], \"yo\", label=\"Iris setosa\")\n",
    "        plt.plot(X[:, 0][y==1], X[:, 1][y==1], \"bs\", label=\"Iris versicolor\")\n",
    "        plt.plot(X[:, 0][y==2], X[:, 1][y==2], \"g^\", label=\"Iris virginica\")\n",
    "        plt.axis(axes)\n",
    "    if iris:\n",
    "        plt.xlabel(\"Petal length\", fontsize=14)\n",
    "        plt.ylabel(\"Petal width\", fontsize=14)\n",
    "    else:\n",
    "        plt.xlabel(r\"$x_1$\", fontsize=18)\n",
    "        plt.ylabel(r\"$x_2$\", fontsize=18, rotation=0)\n",
    "    if legend:\n",
    "        plt.legend(loc=\"lower right\", fontsize=14)\n",
    "        \n",
    "        \n",
    "Xm, ym = make_moons(n_samples=100, noise=0.25, random_state=53)\n",
    "\n",
    "deep_tree_clf1 = DecisionTreeClassifier(random_state=42)\n",
    "deep_tree_clf2 = DecisionTreeClassifier(min_samples_leaf=4, random_state=42)\n",
    "deep_tree_clf1.fit(Xm, ym)\n",
    "deep_tree_clf2.fit(Xm, ym)\n",
    "\n",
    "fig, axes = plt.subplots(ncols=2, figsize=(10, 4), sharey=True)\n",
    "plt.sca(axes[0])\n",
    "plot_decision_boundary(deep_tree_clf1, Xm, ym, axes=[-1.5, 2.4, -1, 1.5], iris=False)\n",
    "plt.title(\"No restrictions\", fontsize=16)\n",
    "plt.sca(axes[1])\n",
    "plot_decision_boundary(deep_tree_clf2, Xm, ym, axes=[-1.5, 2.4, -1, 1.5], iris=False)\n",
    "plt.title(\"min_samples_leaf = {}\".format(deep_tree_clf2.min_samples_leaf), fontsize=14)\n",
    "plt.ylabel(\"\")\n",
    "\n",
    "\n",
    "plt.show()"
   ]
  },
  {
   "cell_type": "markdown",
   "id": "f1db2825",
   "metadata": {},
   "source": [
    "## REGRESSION\n",
    "- Decision Trees can also handle regression. Let's build a regression tree, training it on a noisy quadratic dataset with max_depth=2"
   ]
  },
  {
   "cell_type": "code",
   "execution_count": 9,
   "id": "0083aa40",
   "metadata": {},
   "outputs": [
    {
     "data": {
      "text/plain": [
       "DecisionTreeRegressor(max_depth=2)"
      ]
     },
     "execution_count": 9,
     "metadata": {},
     "output_type": "execute_result"
    }
   ],
   "source": [
    "import numpy as np\n",
    "np.random.seed(42)\n",
    "m = 200\n",
    "X = np.random.rand(m, 1)\n",
    "y = 4 * (X - 0.5) ** 2\n",
    "y = y + np.random.randn(m, 1) / 10\n",
    "\n",
    "from sklearn.tree import DecisionTreeRegressor\n",
    "tree_reg = DecisionTreeRegressor(max_depth=2)\n",
    "tree_reg.fit(X, y)"
   ]
  },
  {
   "cell_type": "code",
   "execution_count": 13,
   "id": "c114ef85",
   "metadata": {},
   "outputs": [],
   "source": [
    "import os\n",
    "\n",
    "PROJECT_ROOT_DIR = \".\"\n",
    "IMAGES_PATH = os.path.join(PROJECT_ROOT_DIR, \"images\")\n",
    "os.makedirs(IMAGES_PATH, exist_ok=True)\n",
    "\n",
    "from sklearn.tree import export_graphviz\n",
    "\n",
    "export_graphviz(\n",
    "        tree_reg,\n",
    "        out_file=os.path.join(IMAGES_PATH, \"Cuadratic_noisy_tree.dot\"),\n",
    "        feature_names=[\"X1\"],\n",
    "        rounded=True,\n",
    "        filled=True\n",
    "    )"
   ]
  },
  {
   "cell_type": "markdown",
   "id": "b88647e6",
   "metadata": {},
   "source": [
    "# SPLIT THE TRAINING SET IN A WAY THAT MINIMIZES IMPURITY OR MINIMMIZES THE MSE"
   ]
  },
  {
   "cell_type": "markdown",
   "id": "c2c82d64",
   "metadata": {},
   "source": [
    "## INSTABILITY\n",
    "- Decision trees are sensitive to training set rotation (a  bad thing)\n",
    "- Use PCA to limit this proble of rotation: Which results in a better orientation of the data\n",
    "- RANDOM FOREST can limit this inestability: AVERAGING PREDICTIONS OVER MANY TREES"
   ]
  }
 ],
 "metadata": {
  "kernelspec": {
   "display_name": "Python 3 (ipykernel)",
   "language": "python",
   "name": "python3"
  },
  "language_info": {
   "codemirror_mode": {
    "name": "ipython",
    "version": 3
   },
   "file_extension": ".py",
   "mimetype": "text/x-python",
   "name": "python",
   "nbconvert_exporter": "python",
   "pygments_lexer": "ipython3",
   "version": "3.9.12"
  }
 },
 "nbformat": 4,
 "nbformat_minor": 5
}
