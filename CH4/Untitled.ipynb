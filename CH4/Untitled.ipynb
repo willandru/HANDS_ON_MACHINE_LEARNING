{
 "cells": [
  {
   "cell_type": "markdown",
   "id": "563eb355",
   "metadata": {},
   "source": [
    "# TRAINING MODELS"
   ]
  },
  {
   "cell_type": "markdown",
   "id": "565fb256",
   "metadata": {},
   "source": [
    "## THE NORMAL EQUATION:  (X'X)⁻1 (X^T)(y)"
   ]
  },
  {
   "cell_type": "code",
   "execution_count": 4,
   "id": "5f5991e7",
   "metadata": {},
   "outputs": [
    {
     "data": {
      "text/plain": [
       "array([[ 6.48433018],\n",
       "       [ 6.67560596],\n",
       "       [10.41014766],\n",
       "       [ 5.46004946],\n",
       "       [ 7.64265706],\n",
       "       [ 8.6897459 ],\n",
       "       [ 8.26441315],\n",
       "       [ 7.71069261],\n",
       "       [ 8.22950984],\n",
       "       [ 9.49012092],\n",
       "       [ 8.40397058],\n",
       "       [ 8.45570413],\n",
       "       [ 6.59091694],\n",
       "       [ 5.48582855],\n",
       "       [10.37508023],\n",
       "       [ 8.54247203],\n",
       "       [ 8.77752516],\n",
       "       [ 8.69872133],\n",
       "       [ 6.10348795],\n",
       "       [ 7.42962196],\n",
       "       [ 5.72122572],\n",
       "       [ 6.79225037],\n",
       "       [ 3.37234276],\n",
       "       [ 4.6077956 ],\n",
       "       [ 9.79044158],\n",
       "       [ 7.55358631],\n",
       "       [ 9.53986605],\n",
       "       [ 5.25616307],\n",
       "       [ 5.33274533],\n",
       "       [ 9.98433043],\n",
       "       [ 9.88965539],\n",
       "       [ 9.65021528],\n",
       "       [ 8.13227122],\n",
       "       [ 6.12551361],\n",
       "       [ 5.56193985],\n",
       "       [ 6.68993467],\n",
       "       [ 4.74539742],\n",
       "       [ 8.44592786],\n",
       "       [ 4.65773016],\n",
       "       [ 1.837118  ],\n",
       "       [ 5.83061371],\n",
       "       [ 2.39570272],\n",
       "       [ 5.72090797],\n",
       "       [ 6.60851077],\n",
       "       [ 4.68801299],\n",
       "       [ 6.66612776],\n",
       "       [ 7.48019291],\n",
       "       [ 3.07318134],\n",
       "       [ 8.51228502],\n",
       "       [ 4.30971895],\n",
       "       [ 7.91945842],\n",
       "       [ 8.50096608],\n",
       "       [ 6.70449304],\n",
       "       [10.4360982 ],\n",
       "       [ 7.54813782],\n",
       "       [ 6.78694715],\n",
       "       [ 7.85543212],\n",
       "       [ 5.98284799],\n",
       "       [ 7.42218517],\n",
       "       [ 3.18299034],\n",
       "       [ 5.19041017],\n",
       "       [ 5.16320858],\n",
       "       [ 4.68714908],\n",
       "       [ 6.59832118],\n",
       "       [ 6.70458756],\n",
       "       [ 3.69209934],\n",
       "       [ 9.67763655],\n",
       "       [ 7.28613266],\n",
       "       [ 6.86497615],\n",
       "       [ 3.08321249],\n",
       "       [ 6.82117753],\n",
       "       [ 2.7645234 ],\n",
       "       [ 4.81717142],\n",
       "       [ 7.80097944],\n",
       "       [ 5.51276651],\n",
       "       [ 6.19394738],\n",
       "       [10.94381399],\n",
       "       [ 6.8169639 ],\n",
       "       [ 7.35254814],\n",
       "       [ 9.3932082 ],\n",
       "       [ 5.19442884],\n",
       "       [ 6.94909501],\n",
       "       [ 5.41592094],\n",
       "       [ 6.19324506],\n",
       "       [ 9.02668656],\n",
       "       [ 9.77991357],\n",
       "       [ 4.85609399],\n",
       "       [ 5.15870314],\n",
       "       [ 6.03564044],\n",
       "       [ 5.15590932],\n",
       "       [ 6.28916582],\n",
       "       [ 7.81206279],\n",
       "       [ 7.46477759],\n",
       "       [ 9.70502899],\n",
       "       [ 8.6718712 ],\n",
       "       [ 5.98562693],\n",
       "       [ 6.15294091],\n",
       "       [ 9.66486619],\n",
       "       [ 4.80197782],\n",
       "       [ 6.97632206]])"
      ]
     },
     "execution_count": 4,
     "metadata": {},
     "output_type": "execute_result"
    }
   ],
   "source": [
    "import numpy as np\n",
    "\n",
    "X= 2* np.random.rand(100,1)\n",
    "y = 4 + 3*X + np.random.randn(100,1)\n",
    "y"
   ]
  },
  {
   "cell_type": "code",
   "execution_count": 9,
   "id": "2b219667",
   "metadata": {},
   "outputs": [
    {
     "data": {
      "image/png": "[encoded data removed]",
      "text/plain": [
       "<Figure size 432x288 with 1 Axes>"
      ]
     },
     "metadata": {
      "needs_background": "light"
     },
     "output_type": "display_data"
    }
   ],
   "source": [
    "%matplotlib inline\n",
    "# import matplotlib as mpl\n",
    "import matplotlib.pyplot as plt\n",
    "plt.plot(X, y, \"b.\")\n",
    "\n",
    "#LABELS\n",
    "plt.xlabel(\"$x_1$\", fontsize=18)\n",
    "plt.ylabel(\"$y$\", rotation=0, fontsize=18)\n",
    "\n",
    "plt.axis([0, 2, 0, 15])\n",
    "#plt.show()\n"
   ]
  },
  {
   "cell_type": "code",
   "execution_count": null,
   "id": "eb4eb9db",
   "metadata": {},
   "outputs": [],
   "source": []
  },
  {
   "cell_type": "code",
   "execution_count": null,
   "id": "4b2f6ad6",
   "metadata": {},
   "outputs": [],
   "source": []
  },
  {
   "cell_type": "code",
   "execution_count": null,
   "id": "ceacc331",
   "metadata": {},
   "outputs": [],
   "source": []
  },
  {
   "cell_type": "code",
   "execution_count": null,
   "id": "c79b2b64",
   "metadata": {},
   "outputs": [],
   "source": []
  },
  {
   "cell_type": "code",
   "execution_count": null,
   "id": "90bc1965",
   "metadata": {},
   "outputs": [],
   "source": []
  }
 ],
 "metadata": {
  "kernelspec": {
   "display_name": "Python 3 (ipykernel)",
   "language": "python",
   "name": "python3"
  },
  "language_info": {
   "codemirror_mode": {
    "name": "ipython",
    "version": 3
   },
   "file_extension": ".py",
   "mimetype": "text/x-python",
   "name": "python",
   "nbconvert_exporter": "python",
   "pygments_lexer": "ipython3",
   "version": "3.9.12"
  }
 },
 "nbformat": 4,
 "nbformat_minor": 5
}
