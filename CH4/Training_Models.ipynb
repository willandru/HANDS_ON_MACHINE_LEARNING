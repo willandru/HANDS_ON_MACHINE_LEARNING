{
 "cells": [
  {
   "cell_type": "markdown",
   "id": "01ab5f0e",
   "metadata": {},
   "source": [
    "# TRAINING MODELS"
   ]
  },
  {
   "cell_type": "markdown",
   "id": "165861ea",
   "metadata": {},
   "source": [
    "## THE NORMAL EQUATION:  (X'X)⁻1 (X^T)(y)= theha_estimado"
   ]
  },
  {
   "cell_type": "code",
   "execution_count": 1,
   "id": "1d4fc66f",
   "metadata": {},
   "outputs": [],
   "source": [
    "import numpy as np\n",
    "\n",
    "X= 2* np.random.rand(100,1)\n",
    "y = 4 + 3*X + np.random.randn(100,1)\n"
   ]
  },
  {
   "cell_type": "code",
   "execution_count": 2,
   "id": "56964422",
   "metadata": {},
   "outputs": [
    {
     "data": {
      "text/plain": [
       "(0.0, 2.0, 0.0, 15.0)"
      ]
     },
     "execution_count": 2,
     "metadata": {},
     "output_type": "execute_result"
    },
    {
     "data": {
      "image/png": "[encoded data removed]",
      "text/plain": [
       "<Figure size 432x288 with 1 Axes>"
      ]
     },
     "metadata": {
      "needs_background": "light"
     },
     "output_type": "display_data"
    }
   ],
   "source": [
    "%matplotlib inline\n",
    "# import matplotlib as mpl\n",
    "import matplotlib.pyplot as plt\n",
    "plt.plot(X, y, \"b.\")\n",
    "\n",
    "#LABELS\n",
    "plt.xlabel(\"$x_1$\", fontsize=18)\n",
    "plt.ylabel(\"$y$\", rotation=0, fontsize=18)\n",
    "\n",
    "plt.axis([0, 2, 0, 15])\n",
    "#plt.show()\n"
   ]
  },
  {
   "cell_type": "markdown",
   "id": "cbd01859",
   "metadata": {},
   "source": [
    "### NORMAL EQUATION: Its not as efficient as the pseudoinverse and its not always defined"
   ]
  },
  {
   "cell_type": "code",
   "execution_count": 4,
   "id": "3e898a82",
   "metadata": {},
   "outputs": [
    {
     "data": {
      "text/plain": [
       "array([[3.93914681],\n",
       "       [2.9699675 ]])"
      ]
     },
     "execution_count": 4,
     "metadata": {},
     "output_type": "execute_result"
    }
   ],
   "source": [
    "X_b = np.c_[np.ones((100,1)), X] \n",
    "theta_best = np.linalg.inv(X_b.T.dot(X_b)).dot(X_b.T).dot(y)\n",
    "theta_best"
   ]
  },
  {
   "cell_type": "markdown",
   "id": "a0582815",
   "metadata": {},
   "source": [
    "### The fuction used to generate the data was y=4+3x + Gaussian noise.\n",
    "## Now we can make predictions usign theha_estimado:"
   ]
  },
  {
   "cell_type": "code",
   "execution_count": 5,
   "id": "15f0e537",
   "metadata": {},
   "outputs": [
    {
     "data": {
      "text/plain": [
       "array([[3.93914681],\n",
       "       [9.87908181]])"
      ]
     },
     "execution_count": 5,
     "metadata": {},
     "output_type": "execute_result"
    }
   ],
   "source": [
    "X_new= np.array([[0], [2]])\n",
    "X_new_b= np.c_[np.ones((2,1)), X_new]\n",
    "y_predict = X_new_b.dot(theta_best)\n",
    "y_predict"
   ]
  },
  {
   "cell_type": "code",
   "execution_count": 6,
   "id": "e42984c9",
   "metadata": {},
   "outputs": [
    {
     "data": {
      "text/plain": [
       "(0.0, 2.0, 0.0, 15.0)"
      ]
     },
     "execution_count": 6,
     "metadata": {},
     "output_type": "execute_result"
    },
    {
     "data": {
      "image/png": "[encoded data removed]",
      "text/plain": [
       "<Figure size 432x288 with 1 Axes>"
      ]
     },
     "metadata": {
      "needs_background": "light"
     },
     "output_type": "display_data"
    }
   ],
   "source": [
    "plt.plot(X_new, y_predict, \"r-\")\n",
    "plt.plot(X, y, \"b.\")\n",
    "plt.axis([0,2,0,15])\n"
   ]
  },
  {
   "cell_type": "markdown",
   "id": "ad55f9c1",
   "metadata": {},
   "source": [
    "# LINEAR REGRESSION MODEL"
   ]
  },
  {
   "cell_type": "code",
   "execution_count": 7,
   "id": "fc798f41",
   "metadata": {},
   "outputs": [
    {
     "data": {
      "text/plain": [
       "(array([3.93914681]), array([[2.9699675]]))"
      ]
     },
     "execution_count": 7,
     "metadata": {},
     "output_type": "execute_result"
    }
   ],
   "source": [
    "from sklearn.linear_model import LinearRegression\n",
    "lin_reg = LinearRegression()\n",
    "lin_reg.fit(X,y)\n",
    "lin_reg.intercept_, lin_reg.coef_"
   ]
  },
  {
   "cell_type": "code",
   "execution_count": 8,
   "id": "e315ae8f",
   "metadata": {},
   "outputs": [
    {
     "data": {
      "text/plain": [
       "array([[3.93914681],\n",
       "       [9.87908181]])"
      ]
     },
     "execution_count": 8,
     "metadata": {},
     "output_type": "execute_result"
    }
   ],
   "source": [
    "lin_reg.predict(X_new)"
   ]
  },
  {
   "cell_type": "markdown",
   "id": "4e0529b2",
   "metadata": {},
   "source": [
    "### The linear regression class is based on the scipy.linalg.lstsq() \"least squares\", which you could call directly:"
   ]
  },
  {
   "cell_type": "code",
   "execution_count": 9,
   "id": "37256cf5",
   "metadata": {},
   "outputs": [
    {
     "data": {
      "text/plain": [
       "array([[3.93914681],\n",
       "       [2.9699675 ]])"
      ]
     },
     "execution_count": 9,
     "metadata": {},
     "output_type": "execute_result"
    }
   ],
   "source": [
    "theta_best_svd, residuals, rank, s = np.linalg.lstsq(X_b, y, rcond=1e-6)\n",
    "theta_best_svd"
   ]
  },
  {
   "cell_type": "markdown",
   "id": "802a5a6a",
   "metadata": {},
   "source": [
    "### The pseudoinverse of X ( The Moore-Penrose inverse) is always defined."
   ]
  },
  {
   "cell_type": "code",
   "execution_count": 10,
   "id": "45dae882",
   "metadata": {},
   "outputs": [
    {
     "data": {
      "text/plain": [
       "array([[3.93914681],\n",
       "       [2.9699675 ]])"
      ]
     },
     "execution_count": 10,
     "metadata": {},
     "output_type": "execute_result"
    }
   ],
   "source": [
    "np.linalg.pinv(X_b).dot(y)"
   ]
  },
  {
   "cell_type": "markdown",
   "id": "259289c2",
   "metadata": {},
   "source": [
    "## Computational Complexity\n",
    "### Normal Equation : \n",
    "- O(n³) <- To invert the matrix\n",
    "- O(m) <- To number of features\n",
    "\n",
    "### SVD \n",
    "- O(n²) <- To invert the matrix\n",
    "- O(m) <- To number of features \n",
    "\n",
    "#### Both have a linear complexity O(m) for the number of features to make predictions on , and the number of features"
   ]
  },
  {
   "cell_type": "markdown",
   "id": "507fc92f",
   "metadata": {},
   "source": [
    "# GRADIENT DESCENT\n",
    "### IMPORTANT PARAMETERS\n",
    "- start filling theta whit random initialization\n",
    "- lerning rate hyperparameter: the size of the steps\n",
    "- make sure all the features have similar scale ¡\n",
    "\n",
    "#### Training a model means searching for a combination of model parameters that minimizes a cost function over the training set\n",
    "- It's a search in the model's parameters space: the more parameters a model has, the more dimensions this space has, and the harder the search is."
   ]
  },
  {
   "cell_type": "markdown",
   "id": "c6c21fb5",
   "metadata": {},
   "source": [
    "## BATCH GRADIENT DESCENT\n",
    "- It uses the hole batch of training data at every step\n",
    "- Scales well with the number of features\n",
    "- much faster than the normal equation or SVD"
   ]
  },
  {
   "cell_type": "code",
   "execution_count": 11,
   "id": "3094206a",
   "metadata": {},
   "outputs": [
    {
     "data": {
      "text/plain": [
       "array([[3.93914681],\n",
       "       [2.9699675 ]])"
      ]
     },
     "execution_count": 11,
     "metadata": {},
     "output_type": "execute_result"
    }
   ],
   "source": [
    "eta = 0.1 # learning rate\n",
    "n_interations =1000\n",
    "m=100\n",
    "\n",
    "theta = np.random.randn(2,1) #random initialization\n",
    "\n",
    "for iterations in range(n_interations):\n",
    "    gradients = 2/m * X_b.T.dot(X_b.dot(theta) - y)\n",
    "    theta = theta - eta*gradients\n",
    "    \n",
    "theta"
   ]
  },
  {
   "cell_type": "markdown",
   "id": "cbb4a8b2",
   "metadata": {},
   "source": [
    "## STOCHASTIC GRADIENT DESCENT\n",
    "- Picks a random instance in the training set at every step and comptes the gradient based only on that single instance.\n",
    "- stochastic (random) nature. instead of gently decreasing until it reaches the minimum, the cost fucntion will bounce up and down, decreasing only on average. Oce it gets to the minimum it will continue bouncing around, never settling down.\n",
    "- So the parameters are good, but not optimal\n",
    "- learning shecdule: gradually reduce the learning rate"
   ]
  },
  {
   "cell_type": "markdown",
   "id": "b1ee876c",
   "metadata": {},
   "source": [
    "### STOCHASTIC GRADIENT WHIT LEARNING SCHEDULE"
   ]
  },
  {
   "cell_type": "code",
   "execution_count": 13,
   "id": "b20e2b77",
   "metadata": {},
   "outputs": [
    {
     "data": {
      "text/plain": [
       "array([[3.98846598],\n",
       "       [2.98906377]])"
      ]
     },
     "execution_count": 13,
     "metadata": {},
     "output_type": "execute_result"
    }
   ],
   "source": [
    "n_epochs = 50\n",
    "t0, t1 = 5, 50 #learning schedule hyperparameters\n",
    "\n",
    "def learning_schedule(t):\n",
    "    return t0 / (t + t1)\n",
    "\n",
    "theta = np.random.randn(2,1) # random initialization\n",
    "\n",
    "for epoch in range(n_epochs):\n",
    "    for i in range(m):\n",
    "        random_index= np.random.randint(m)\n",
    "        xi = X_b[random_index:random_index + 1]\n",
    "        yi = y[random_index: random_index+1]\n",
    "        gradients= 2* xi.T.dot(xi.dot(theta) - yi)\n",
    "        eta = learning_schedule(epoch * m +i)\n",
    "        theta = theta - eta * gradients\n",
    "theta"
   ]
  },
  {
   "cell_type": "markdown",
   "id": "0cf40b06",
   "metadata": {},
   "source": [
    "### STOCHASTIC GRADIENT DESCENT WHIT SKLEARN"
   ]
  },
  {
   "cell_type": "code",
   "execution_count": 16,
   "id": "1ac171e4",
   "metadata": {},
   "outputs": [
    {
     "data": {
      "text/plain": [
       "(array([3.9300576]), array([2.97644145]))"
      ]
     },
     "execution_count": 16,
     "metadata": {},
     "output_type": "execute_result"
    }
   ],
   "source": [
    "from sklearn.linear_model import SGDRegressor\n",
    "sgd_reg = SGDRegressor( max_iter=1000, tol=1e-3, penalty=None, eta0=0.1)\n",
    "sgd_reg.fit(X, y.ravel())\n",
    "sgd_reg.intercept_ , sgd_reg.coef_"
   ]
  },
  {
   "cell_type": "markdown",
   "id": "cba5c73b",
   "metadata": {},
   "source": [
    "### MINI BATCH GRADIENT DESCENT\n",
    "- You can get a boost in performance when usign GPU\n",
    " \t"
   ]
  },
  {
   "cell_type": "markdown",
   "id": "d3467bcc",
   "metadata": {},
   "source": [
    "# POLYNOMIAL REGRESSION MODEL"
   ]
  },
  {
   "cell_type": "markdown",
   "id": "03869959",
   "metadata": {},
   "source": [
    "- Use a linear model to fit non-linear data : Add powers of each feature as new features, then trainn a linear model on this extended set of features. This technique is called polinomial regression"
   ]
  },
  {
   "cell_type": "code",
   "execution_count": 19,
   "id": "055c89a5",
   "metadata": {},
   "outputs": [
    {
     "data": {
      "text/plain": [
       "(-3.0, 3.0, 0.0, 10.0)"
      ]
     },
     "execution_count": 19,
     "metadata": {},
     "output_type": "execute_result"
    },
    {
     "data": {
      "image/png": "[encoded data removed]",
      "text/plain": [
       "<Figure size 432x288 with 1 Axes>"
      ]
     },
     "metadata": {
      "needs_background": "light"
     },
     "output_type": "display_data"
    }
   ],
   "source": [
    "m =100\n",
    "X= 6 * np.random.rand(m,1)-3\n",
    "y= 0.5 * X**2 + X +2 + np.random.rand(m,1)\n",
    "plt.plot(X, y, \"b.\")\n",
    "plt.xlabel(\"$x_1$\", fontsize=18)\n",
    "plt.ylabel(\"$y$\", rotation=0, fontsize=18)\n",
    "plt.axis([-3, 3, 0, 10])"
   ]
  },
  {
   "cell_type": "markdown",
   "id": "5a400929",
   "metadata": {},
   "source": [
    "### Let's use ´PolynomialFeatures´ class to add the square of each feature in the traininng set as a new feature"
   ]
  },
  {
   "cell_type": "code",
   "execution_count": 20,
   "id": "74c43317",
   "metadata": {},
   "outputs": [
    {
     "data": {
      "text/plain": [
       "array([-2.61412233])"
      ]
     },
     "execution_count": 20,
     "metadata": {},
     "output_type": "execute_result"
    }
   ],
   "source": [
    "from sklearn.preprocessing import PolynomialFeatures\n",
    "poly_features = PolynomialFeatures(degree= 2, include_bias=False)\n",
    "X_poly= poly_features.fit_transform(X)\n",
    "X[0]"
   ]
  },
  {
   "cell_type": "code",
   "execution_count": 21,
   "id": "23fc3653",
   "metadata": {},
   "outputs": [
    {
     "data": {
      "text/plain": [
       "array([-2.61412233,  6.83363556])"
      ]
     },
     "execution_count": 21,
     "metadata": {},
     "output_type": "execute_result"
    }
   ],
   "source": [
    "X_poly[0]"
   ]
  },
  {
   "cell_type": "markdown",
   "id": "a75e8beb",
   "metadata": {},
   "source": [
    "#### Now you can fit a Linear Regression Model\n",
    "#### The model estimates: Y= 0.5015 X² + 1.005X +2.493\n",
    "#### The original model was y=0.5X²+1X+2+GaussianNoise"
   ]
  },
  {
   "cell_type": "code",
   "execution_count": 22,
   "id": "76debc0a",
   "metadata": {},
   "outputs": [
    {
     "data": {
      "text/plain": [
       "(array([2.49359368]), array([[1.00499034, 0.50152316]]))"
      ]
     },
     "execution_count": 22,
     "metadata": {},
     "output_type": "execute_result"
    }
   ],
   "source": [
    "lin_reg = LinearRegression()\n",
    "lin_reg.fit(X_poly, y)\n",
    "lin_reg.intercept_ , lin_reg.coef_"
   ]
  },
  {
   "cell_type": "markdown",
   "id": "494b640d",
   "metadata": {},
   "source": [
    "# LEARNING CURVES"
   ]
  },
  {
   "cell_type": "code",
   "execution_count": 31,
   "id": "e20ad048",
   "metadata": {},
   "outputs": [],
   "source": [
    "from sklearn.metrics import mean_squared_error\n",
    "from sklearn.model_selection import train_test_split\n",
    "\n",
    "def plot_lerning_curves(model, X, y):\n",
    "    X_train, X_val, y_train, y_val= train_test_split(X, y, test_size=0.2)\n",
    "    train_errors, val_errors = [],[]\n",
    "    for m in range(1, len(X_train)):\n",
    "        model.fit(X_train[:m], y_train[:m])\n",
    "        y_train_predict= model.predict(X_train[:m])\n",
    "        y_val_predict = model.predict(X_val)\n",
    "        train_errors.append(mean_squared_error(y_train[:m], y_train_predict))\n",
    "        val_errors.append(mean_squared_error(y_val, y_val_predict))\n",
    "    \n",
    "    plt.plot(np.sqrt(train_errors), \"r-+\", linewidth=2, label=\"train\")\n",
    "    plt.plot(np.sqrt(val_errors), \"b-\", linewidth=2, label=\"val\")"
   ]
  },
  {
   "cell_type": "markdown",
   "id": "bc5890ad",
   "metadata": {},
   "source": [
    "### Let's look at the  Learning Curves for the plain Linear Regression model\n",
    "- Typical UNDERFITTING CURVE\n",
    "- Adding more training examples will not help. You need to use a more complex model or come up with better set of features"
   ]
  },
  {
   "cell_type": "code",
   "execution_count": 59,
   "id": "cd38bb73",
   "metadata": {},
   "outputs": [
    {
     "data": {
      "image/png": "[encoded data removed]",
      "text/plain": [
       "<Figure size 432x288 with 1 Axes>"
      ]
     },
     "metadata": {
      "needs_background": "light"
     },
     "output_type": "display_data"
    }
   ],
   "source": [
    "lin_reg = LinearRegression()\n",
    "plot_lerning_curves(lin_reg, X, y)"
   ]
  },
  {
   "cell_type": "markdown",
   "id": "78c163a1",
   "metadata": {},
   "source": [
    "#### Let's look a the Learning CUrves for a 10th-degree polynomial model on the same data"
   ]
  },
  {
   "cell_type": "code",
   "execution_count": 67,
   "id": "35f582a5",
   "metadata": {},
   "outputs": [
    {
     "data": {
      "image/png": "[encoded data removed]",
      "text/plain": [
       "<Figure size 432x288 with 1 Axes>"
      ]
     },
     "metadata": {
      "needs_background": "light"
     },
     "output_type": "display_data"
    }
   ],
   "source": [
    "from sklearn.pipeline import Pipeline\n",
    "polynomial_regression = Pipeline([\n",
    "    (\"poly_features\", PolynomialFeatures(degree=10, include_bias=False)),\n",
    "    (\"lin_reg\", LinearRegression())\n",
    "])\n",
    "plot_lerning_curves(polynomial_regression, X, y)"
   ]
  },
  {
   "cell_type": "markdown",
   "id": "20d07f20",
   "metadata": {},
   "source": [
    "# REGULARIZED LINEAR MODELS\n",
    "- One way to reduce overfitting is to regularize the model (constran it)\n",
    "- The fewer degrees of freedom it has, the harder it will be for it to overfit the data\n",
    "- For linear regression model, one way to regularize it is to constraint the weights of the model\n",
    "- CONSTRAIN THE WEIGHTS"
   ]
  },
  {
   "cell_type": "markdown",
   "id": "ece780b6",
   "metadata": {},
   "source": [
    "## RIDGE REGRESSION\n",
    "- ridge regression cost function: J(Theta)= MSE(Theta) + alfa * sum(Theta²) / 2\n",
    "- It's important to scale the data before performing Ride Regression"
   ]
  },
  {
   "cell_type": "markdown",
   "id": "db4fd441",
   "metadata": {},
   "source": [
    "#### Ridge Regression with Scikit-Learn"
   ]
  },
  {
   "cell_type": "code",
   "execution_count": 69,
   "id": "46d0b090",
   "metadata": {},
   "outputs": [
    {
     "data": {
      "text/plain": [
       "array([[5.5322088]])"
      ]
     },
     "execution_count": 69,
     "metadata": {},
     "output_type": "execute_result"
    }
   ],
   "source": [
    "from sklearn.linear_model import Ridge\n",
    "ridge_reg = Ridge(alpha=1 , solver=\"cholesky\")\n",
    "ridge_reg.fit(X,y)\n",
    "ridge_reg.predict([[1.5]])"
   ]
  },
  {
   "cell_type": "markdown",
   "id": "af5ed22d",
   "metadata": {},
   "source": [
    "#### Ridge Regression using Stochastic Gradient Descent : \"l2\" means Ridge Regression"
   ]
  },
  {
   "cell_type": "code",
   "execution_count": 70,
   "id": "35c60b23",
   "metadata": {},
   "outputs": [
    {
     "data": {
      "text/plain": [
       "array([5.52991254])"
      ]
     },
     "execution_count": 70,
     "metadata": {},
     "output_type": "execute_result"
    }
   ],
   "source": [
    "sgd_reg  = SGDRegressor(penalty=\"l2\")\n",
    "sgd_reg.fit(X, y.ravel())\n",
    "sgd_reg.predict([[1.5]])"
   ]
  },
  {
   "cell_type": "markdown",
   "id": "16a32234",
   "metadata": {},
   "source": [
    "## LASSO REGRESSION\n",
    "- Least Absolute Shrinkage and Selection Operator Regression\n",
    "- Adds a regularization term to the cost function\n",
    "- Tends to eliminate the weights of the least important features\n",
    "- You can sckitlearn as shown, or use SGDRegressor (penalty=\"l1)\n"
   ]
  },
  {
   "cell_type": "code",
   "execution_count": 71,
   "id": "7f334fa9",
   "metadata": {},
   "outputs": [
    {
     "data": {
      "text/plain": [
       "array([5.49451608])"
      ]
     },
     "execution_count": 71,
     "metadata": {},
     "output_type": "execute_result"
    }
   ],
   "source": [
    "from sklearn.linear_model import Lasso\n",
    "lass_reg = Lasso(alpha =0.1)\n",
    "lass_reg.fit(X, y)\n",
    "lass_reg.predict([[1.5]])"
   ]
  },
  {
   "cell_type": "markdown",
   "id": "449f0a78",
   "metadata": {},
   "source": [
    "## ELASTIC NET\n",
    "- A MIX OF BOTH RIDGE AND LASSO\n",
    "- Usually prefered over Lasso beacause Lasso may behave erratically when the number of features is greater than the number of training instances, or when several features are strongly correlated"
   ]
  },
  {
   "cell_type": "code",
   "execution_count": 72,
   "id": "e717b9d1",
   "metadata": {},
   "outputs": [
    {
     "data": {
      "text/plain": [
       "array([5.49457103])"
      ]
     },
     "execution_count": 72,
     "metadata": {},
     "output_type": "execute_result"
    }
   ],
   "source": [
    "from sklearn.linear_model import ElasticNet\n",
    "elastic_net = ElasticNet(alpha =0.1 , l1_ratio = 0.5)\n",
    "elastic_net.fit(X,y)\n",
    "elastic_net.predict([[1.5]])"
   ]
  },
  {
   "cell_type": "markdown",
   "id": "ffc37cce",
   "metadata": {},
   "source": [
    "# EARLY STOPPING \n",
    "- Stop training as soon as the validation error reaches a minimum\n",
    "- Beautiful regularization technique called \"beautiful free lunch\"\n",
    "- One solution with Stochastic and Mini-Batch Gradient Descent due to the curves not being so smooth, and it may be har to know wheter you have reached the minimum or not. One solution is to stop only after the validation error has been above the minimum for some time, then roll back the model parameters to the point where the validation error was at a minimum"
   ]
  },
  {
   "cell_type": "code",
   "execution_count": 75,
   "id": "8b3bf714",
   "metadata": {},
   "outputs": [],
   "source": [
    "np.random.seed(42)\n",
    "m = 100\n",
    "X = 6 * np.random.rand(m, 1) - 3\n",
    "y = 2 + X + 0.5 * X**2 + np.random.randn(m, 1)\n",
    "\n",
    "X_train, X_val, y_train, y_val = train_test_split(X[:50], y[:50].ravel(), test_size=0.5, random_state=10)"
   ]
  },
  {
   "cell_type": "code",
   "execution_count": 77,
   "id": "0039c883",
   "metadata": {},
   "outputs": [],
   "source": [
    "from sklearn.preprocessing import StandardScaler\n",
    "from copy import deepcopy\n",
    "\n",
    "\n",
    "#prepare the data\n",
    "poly_scaler = Pipeline([\n",
    "    (\"poly_features\", PolynomialFeatures(degree=90, include_bias=False)),\n",
    "    (\"std_scaler\", StandardScaler())\n",
    "])\n",
    "\n",
    "X_train_poly_scaled = poly_scaler.fit_transform(X_train)\n",
    "X_val_poly_scaled = poly_scaler.transform(X_val)\n",
    "\n",
    "sgd_reg = SGDRegressor(max_iter=1, tol=-np.infty, warm_start=True,\n",
    "                      penalty=None, learning_rate=\"constant\", eta0=0.0005)\n",
    "\n",
    "minimum_val_error = float(\"inf\")\n",
    "best_epoch = None\n",
    "best_model = None\n",
    "for epoch in range(1000):\n",
    "    sgd_reg.fit(X_train_poly_scaled, y_train) #continues where it left off\n",
    "    y_val_predict = sgd_reg.predict(X_val_poly_scaled)\n",
    "    val_error = mean_squared_error(y_val, y_val_predict)\n",
    "    if val_error < minimum_val_error:\n",
    "        minimum_val_error = val_error\n",
    "        best_epoch = epoch\n",
    "        best_model = deepcopy(sgd_reg)"
   ]
  },
  {
   "cell_type": "markdown",
   "id": "7893661a",
   "metadata": {},
   "source": [
    "# LOGISTIC REGRESSION : Iris Virginica classifier based on the petal width feature"
   ]
  },
  {
   "cell_type": "code",
   "execution_count": 78,
   "id": "46cf49a8",
   "metadata": {},
   "outputs": [
    {
     "data": {
      "text/plain": [
       "['data',\n",
       " 'target',\n",
       " 'frame',\n",
       " 'target_names',\n",
       " 'DESCR',\n",
       " 'feature_names',\n",
       " 'filename',\n",
       " 'data_module']"
      ]
     },
     "execution_count": 78,
     "metadata": {},
     "output_type": "execute_result"
    }
   ],
   "source": [
    "from sklearn import datasets\n",
    "\n",
    "iris= datasets.load_iris()\n",
    "list(iris.keys())"
   ]
  },
  {
   "cell_type": "code",
   "execution_count": 79,
   "id": "854e461e",
   "metadata": {},
   "outputs": [
    {
     "name": "stderr",
     "output_type": "stream",
     "text": [
      "/tmp/ipykernel_7421/1056206296.py:2: DeprecationWarning: `np.int` is a deprecated alias for the builtin `int`. To silence this warning, use `int` by itself. Doing this will not modify any behavior and is safe. When replacing `np.int`, you may wish to use e.g. `np.int64` or `np.int32` to specify the precision. If you wish to review your current use, check the release note link for additional information.\n",
      "Deprecated in NumPy 1.20; for more details and guidance: https://numpy.org/devdocs/release/1.20.0-notes.html#deprecations\n",
      "  y = (iris[\"target\"] == 2).astype(np.int) # 1 if Iris virginica, else 0\n"
     ]
    }
   ],
   "source": [
    "X= iris[\"data\"][:, 3:] #petal width\n",
    "y = (iris[\"target\"] == 2).astype(np.int) # 1 if Iris virginica, else 0 "
   ]
  },
  {
   "cell_type": "code",
   "execution_count": 81,
   "id": "0ddb04b3",
   "metadata": {},
   "outputs": [
    {
     "data": {
      "text/plain": [
       "LogisticRegression()"
      ]
     },
     "execution_count": 81,
     "metadata": {},
     "output_type": "execute_result"
    }
   ],
   "source": [
    "from sklearn.linear_model import LogisticRegression\n",
    "\n",
    "log_reg = LogisticRegression()\n",
    "log_reg.fit(X, y)"
   ]
  },
  {
   "cell_type": "code",
   "execution_count": 84,
   "id": "47a4138d",
   "metadata": {},
   "outputs": [
    {
     "name": "stderr",
     "output_type": "stream",
     "text": [
      "/home/kaliw/GITHUB/HANDS_ON_MACHINE_LEARNING/CH2/housing_prices/lib/python3.9/site-packages/matplotlib/patches.py:1444: VisibleDeprecationWarning: Creating an ndarray from ragged nested sequences (which is a list-or-tuple of lists-or-tuples-or ndarrays with different lengths or shapes) is deprecated. If you meant to do this, you must specify 'dtype=object' when creating the ndarray.\n",
      "  self.verts = np.dot(coords, M) + [\n"
     ]
    },
    {
     "data": {
      "text/plain": [
       "(0.0, 3.0, -0.02, 1.02)"
      ]
     },
     "execution_count": 84,
     "metadata": {},
     "output_type": "execute_result"
    },
    {
     "data": {
      "image/png": "[encoded data removed]",
      "text/plain": [
       "<Figure size 576x216 with 1 Axes>"
      ]
     },
     "metadata": {
      "needs_background": "light"
     },
     "output_type": "display_data"
    }
   ],
   "source": [
    "X_new = np.linspace(0, 3 , 1000).reshape(-1, 1)\n",
    "y_proba = log_reg.predict_proba(X_new)\n",
    "\n",
    "decision_boundary = X_new[y_proba[:, 1] >= 0.5][0]\n",
    "\n",
    "plt.figure(figsize=(8, 3))\n",
    "plt.plot(X[y==0], y[y==0], \"bs\")\n",
    "plt.plot(X[y==1], y[y==1], \"g^\")\n",
    "plt.plot([decision_boundary, decision_boundary], [-1, 2], \"k:\", linewidth=2)\n",
    "plt.plot(X_new, y_proba[:, 1], \"g-\", linewidth=2, label=\"Iris virginica\")\n",
    "plt.plot(X_new, y_proba[:, 0], \"b--\", linewidth=2, label=\"Not Iris virginica\")\n",
    "plt.text(decision_boundary+0.02, 0.15, \"Decision  boundary\", fontsize=14, color=\"k\", ha=\"center\")\n",
    "plt.arrow(decision_boundary, 0.08, -0.3, 0, head_width=0.05, head_length=0.1, fc='b', ec='b')\n",
    "plt.arrow(decision_boundary, 0.92, 0.3, 0, head_width=0.05, head_length=0.1, fc='g', ec='g')\n",
    "plt.xlabel(\"Petal width (cm)\", fontsize=14)\n",
    "plt.ylabel(\"Probability\", fontsize=14)\n",
    "plt.legend(loc=\"center left\", fontsize=14)\n",
    "plt.axis([0, 3, -0.02, 1.02])"
   ]
  },
  {
   "cell_type": "code",
   "execution_count": 85,
   "id": "469019c2",
   "metadata": {},
   "outputs": [
    {
     "data": {
      "text/plain": [
       "array([1, 0])"
      ]
     },
     "execution_count": 85,
     "metadata": {},
     "output_type": "execute_result"
    }
   ],
   "source": [
    "log_reg.predict([[1.7], [1.5]])"
   ]
  },
  {
   "cell_type": "markdown",
   "id": "2c7b5196",
   "metadata": {},
   "source": [
    "# SOFTMAX REGRESSION:\n",
    "- Logistic Regression Model can be generalized to support multiple classes directly, without havin to train and combine multiple binary classifiers\n",
    "- This is called Softmax Regression, or Multinomial Logistic Regression.\n",
    "- Given an instance X, the DoftMaxx REgression model first computes a score s_k(X) for each class k, then estimates the probability of each class by applying the softmax function ( o normalized exponential) to the scores.\n",
    "- The Softmax Regression classifier predicts the class with the highest estimated probability\n",
    "- It oredicts only one class at a time, so it should be used only with mutally exclusive classes, such as differetn types of plants. You cannot use it to recognize multiple people in one picture. IT IS MULTICLASS, NOT MULTIOUTPUT\n",
    "- The cost function used is called: CROSS "
   ]
  },
  {
   "cell_type": "markdown",
   "id": "1d5a4da6",
   "metadata": {},
   "source": [
    "## Let's use Softmax Regression to classify the iris flowers into all three classes\n",
    "- By default sckitlearn LogisticRegression's model uses OvR when you try it on more than 2 classes, but you can set the multi_class hyperparameter to \"multinomial\" to switch it to SOFTMAX REGRESSION. You must also specify a solver that supports softmax regresion, such as \"lbfgs\" solver. It also uses \"l2\" regularization by default, wich you can controll using the hyperparameter C"
   ]
  },
  {
   "cell_type": "code",
   "execution_count": 86,
   "id": "568203b8",
   "metadata": {},
   "outputs": [
    {
     "data": {
      "text/plain": [
       "array([2])"
      ]
     },
     "execution_count": 86,
     "metadata": {},
     "output_type": "execute_result"
    }
   ],
   "source": [
    "X = iris[\"data\"][:, (2,3)] #petal length, petal width\n",
    "y = iris[\"target\"]\n",
    "\n",
    "softmax_reg = LogisticRegression(multi_class=\"multinomial\", solver=\"lbfgs\", C=10)\n",
    "softmax_reg.fit(X,y)\n",
    "\n",
    "softmax_reg.predict([[5,2]])\n"
   ]
  },
  {
   "cell_type": "code",
   "execution_count": 87,
   "id": "a7a2bcbd",
   "metadata": {},
   "outputs": [
    {
     "data": {
      "text/plain": [
       "array([[6.38014896e-07, 5.74929995e-02, 9.42506362e-01]])"
      ]
     },
     "execution_count": 87,
     "metadata": {},
     "output_type": "execute_result"
    }
   ],
   "source": [
    "softmax_reg.predict_proba([[5,2]])"
   ]
  },
  {
   "cell_type": "code",
   "execution_count": 88,
   "id": "0563c260",
   "metadata": {},
   "outputs": [
    {
     "data": {
      "image/png": "[encoded data removed]",
      "text/plain": [
       "<Figure size 720x288 with 1 Axes>"
      ]
     },
     "metadata": {
      "needs_background": "light"
     },
     "output_type": "display_data"
    }
   ],
   "source": [
    "x0, x1 = np.meshgrid(\n",
    "        np.linspace(0, 8, 500).reshape(-1, 1),\n",
    "        np.linspace(0, 3.5, 200).reshape(-1, 1),\n",
    "    )\n",
    "X_new = np.c_[x0.ravel(), x1.ravel()]\n",
    "\n",
    "\n",
    "y_proba = softmax_reg.predict_proba(X_new)\n",
    "y_predict = softmax_reg.predict(X_new)\n",
    "\n",
    "zz1 = y_proba[:, 1].reshape(x0.shape)\n",
    "zz = y_predict.reshape(x0.shape)\n",
    "\n",
    "plt.figure(figsize=(10, 4))\n",
    "plt.plot(X[y==2, 0], X[y==2, 1], \"g^\", label=\"Iris virginica\")\n",
    "plt.plot(X[y==1, 0], X[y==1, 1], \"bs\", label=\"Iris versicolor\")\n",
    "plt.plot(X[y==0, 0], X[y==0, 1], \"yo\", label=\"Iris setosa\")\n",
    "\n",
    "from matplotlib.colors import ListedColormap\n",
    "custom_cmap = ListedColormap(['#fafab0','#9898ff','#a0faa0'])\n",
    "\n",
    "plt.contourf(x0, x1, zz, cmap=custom_cmap)\n",
    "contour = plt.contour(x0, x1, zz1, cmap=plt.cm.brg)\n",
    "plt.clabel(contour, inline=1, fontsize=12)\n",
    "plt.xlabel(\"Petal length\", fontsize=14)\n",
    "plt.ylabel(\"Petal width\", fontsize=14)\n",
    "plt.legend(loc=\"center left\", fontsize=14)\n",
    "plt.axis([0, 7, 0, 3.5])\n",
    "plt.show()"
   ]
  }
 ],
 "metadata": {
  "kernelspec": {
   "display_name": "Python 3 (ipykernel)",
   "language": "python",
   "name": "python3"
  },
  "language_info": {
   "codemirror_mode": {
    "name": "ipython",
    "version": 3
   },
   "file_extension": ".py",
   "mimetype": "text/x-python",
   "name": "python",
   "nbconvert_exporter": "python",
   "pygments_lexer": "ipython3",
   "version": "3.9.12"
  }
 },
 "nbformat": 4,
 "nbformat_minor": 5
}
